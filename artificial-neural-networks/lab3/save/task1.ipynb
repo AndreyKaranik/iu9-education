{
 "cells": [
  {
   "cell_type": "code",
   "execution_count": 4,
   "metadata": {},
   "outputs": [
    {
     "name": "stdout",
     "output_type": "stream",
     "text": [
      "Оптимальная точка найдена на 1-й итерации\n",
      "Найденный минимум: [0. 0.]\n"
     ]
    }
   ],
   "source": [
    "import numpy as np\n",
    "from scipy.optimize import minimize_scalar\n",
    "\n",
    "# Определение целевой функции\n",
    "def f(x):\n",
    "    # Пример функции; замените на конкретную функцию\n",
    "    return x[0]**2 + x[1]**2\n",
    "\n",
    "# Определение градиента целевой функции\n",
    "def grad_f(x):\n",
    "    # Пример градиента для f(x) = x[0]2 + x[1]2\n",
    "    return np.array([2 * x[0], 2 * x[1]])\n",
    "\n",
    "# Метод наискорейшего градиентного спуска\n",
    "def gradient_descent(x0, epsilon1=1e-5, epsilon2=1e-5, max_iters=1000):\n",
    "    x_k = np.array(x0)\n",
    "    k = 0\n",
    "\n",
    "    while k < max_iters:\n",
    "        # Вычисление градиента\n",
    "        grad = grad_f(x_k)\n",
    "        \n",
    "        # Проверка критерия окончания по градиенту\n",
    "        if np.linalg.norm(grad) < epsilon1:\n",
    "            print(f\"Оптимальная точка найдена на {k}-й итерации\")\n",
    "            return x_k\n",
    "        \n",
    "        # Определение шага альфа с одномерной минимизацией\n",
    "        def phi(alpha):\n",
    "            return f(x_k - alpha * grad)\n",
    "        \n",
    "        # Поиск минимального значения phi(alpha) по alpha\n",
    "        res = minimize_scalar(phi, bounds=(0, 1), method='bounded')\n",
    "        alpha_k = res.x\n",
    "        \n",
    "        # Обновление x\n",
    "        x_next = x_k - alpha_k * grad\n",
    "\n",
    "        # Проверка критериев окончания по изменениям в x и значении функции\n",
    "        if np.linalg.norm(x_next - x_k) < epsilon1 and abs(f(x_next) - f(x_k)) < epsilon2:\n",
    "            print(f\"Условия окончания достигнуты на {k}-й итерации\")\n",
    "            return x_next\n",
    "\n",
    "        # Переход к следующей итерации\n",
    "        x_k = x_next\n",
    "        k += 1\n",
    "    \n",
    "    print(\"Достигнуто предельное число итераций\")\n",
    "    return x_k\n",
    "\n",
    "# Начальная точка, параметры метода\n",
    "x0 = [10, 10]  # Пример начальной точки\n",
    "result = gradient_descent(x0)\n",
    "print(\"Найденный минимум:\", result)"
   ]
  },
  {
   "cell_type": "code",
   "execution_count": null,
   "metadata": {},
   "outputs": [],
   "source": []
  }
 ],
 "metadata": {
  "kernelspec": {
   "display_name": "Python 3",
   "language": "python",
   "name": "python3"
  },
  "language_info": {
   "codemirror_mode": {
    "name": "ipython",
    "version": 3
   },
   "file_extension": ".py",
   "mimetype": "text/x-python",
   "name": "python",
   "nbconvert_exporter": "python",
   "pygments_lexer": "ipython3",
   "version": "3.11.5"
  }
 },
 "nbformat": 4,
 "nbformat_minor": 2
}
