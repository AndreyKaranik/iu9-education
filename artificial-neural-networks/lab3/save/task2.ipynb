{
 "cells": [
  {
   "cell_type": "code",
   "execution_count": 4,
   "metadata": {},
   "outputs": [
    {
     "name": "stdout",
     "output_type": "stream",
     "text": [
      "Оптимум достигнут на 1-й итерации\n",
      "Результат (Флетчер-Ривз): [0. 0.]\n",
      "Оптимум достигнут на 1-й итерации\n",
      "Результат (Полак-Рибьер): [0. 0.]\n"
     ]
    }
   ],
   "source": [
    "import numpy as np\n",
    "from scipy.optimize import minimize_scalar\n",
    "\n",
    "# Целевая функция f(x)\n",
    "def f(x):\n",
    "    # Пример квадратичной функции, замените на нужную\n",
    "    return x[0]**2 + x[1]**2\n",
    "\n",
    "# Градиент функции f(x)\n",
    "def grad_f(x):\n",
    "    # Пример для функции f(x) = x[0]2 + x[1]2\n",
    "    return np.array([2 * x[0], 2 * x[1]])\n",
    "\n",
    "# Метод Флетчера-Ривза и Полака-Рибьера\n",
    "def conjugate_gradient(x0, epsilon1=1e-5, delta2=1e-5, epsilon2=1e-5, M=1000, method=\"FR\"):\n",
    "    x_k = np.array(x0)\n",
    "    grad_k = grad_f(x_k)\n",
    "    d_k = -grad_k  # Начальное направление\n",
    "    k = 0\n",
    "\n",
    "    while k < M:\n",
    "        # Проверка критерия окончания по градиенту\n",
    "        if np.linalg.norm(grad_k) < epsilon1:\n",
    "            print(f\"Оптимум достигнут на {k}-й итерации\")\n",
    "            return x_k\n",
    "        \n",
    "        # Определение шага альфа через одномерную минимизацию\n",
    "        def phi(alpha):\n",
    "            return f(x_k + alpha * d_k)\n",
    "        \n",
    "        res = minimize_scalar(phi, bounds=(0, 1), method='bounded')\n",
    "        alpha_k = res.x\n",
    "\n",
    "        # Обновление x\n",
    "        x_next = x_k + alpha_k * d_k\n",
    "        grad_next = grad_f(x_next)\n",
    "\n",
    "        # Выбор формулы для вычисления w^(k-1)\n",
    "        if method == \"FR\":\n",
    "            # Флетчер-Ривз\n",
    "            w_k = np.linalg.norm(grad_next)**2 / np.linalg.norm(grad_k)**2\n",
    "        elif method == \"PR\":\n",
    "            # Полак-Рибьер\n",
    "            w_k = max(\n",
    "                np.dot(grad_next, grad_next - grad_k) / np.linalg.norm(grad_k)**2,\n",
    "                0\n",
    "            ) if k % len(x0) != 0 else 0\n",
    "\n",
    "        # Вычисление нового направления d_k\n",
    "        d_k = -grad_next + w_k * d_k\n",
    "\n",
    "        # Проверка условий окончания по x и значению функции\n",
    "        if np.linalg.norm(x_next - x_k) < delta2 and abs(f(x_next) - f(x_k)) < epsilon2:\n",
    "            print(f\"Условия окончания достигнуты на {k}-й итерации\")\n",
    "            return x_next\n",
    "\n",
    "        # Подготовка к следующей итерации\n",
    "        x_k = x_next\n",
    "        grad_k = grad_next\n",
    "        k += 1\n",
    "    \n",
    "    print(\"Достигнуто предельное число итераций\")\n",
    "    return x_k\n",
    "\n",
    "# Начальная точка и параметры алгоритма\n",
    "x0 = [10, 10]\n",
    "result_fr = conjugate_gradient(x0, method=\"FR\")\n",
    "print(\"Результат (Флетчер-Ривз):\", result_fr)\n",
    "\n",
    "result_pr = conjugate_gradient(x0, method=\"PR\")\n",
    "print(\"Результат (Полак-Рибьер):\", result_pr)"
   ]
  }
 ],
 "metadata": {
  "kernelspec": {
   "display_name": "Python 3",
   "language": "python",
   "name": "python3"
  },
  "language_info": {
   "codemirror_mode": {
    "name": "ipython",
    "version": 3
   },
   "file_extension": ".py",
   "mimetype": "text/x-python",
   "name": "python",
   "nbconvert_exporter": "python",
   "pygments_lexer": "ipython3",
   "version": "3.11.5"
  }
 },
 "nbformat": 4,
 "nbformat_minor": 2
}
