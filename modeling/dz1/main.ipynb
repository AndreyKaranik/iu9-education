{
 "cells": [
  {
   "cell_type": "code",
   "execution_count": 9,
   "metadata": {},
   "outputs": [
    {
     "name": "stdout",
     "output_type": "stream",
     "text": [
      "E0: 2.1426 дней\n"
     ]
    }
   ],
   "source": [
    "import numpy as np\n",
    "\n",
    "P = np.array([\n",
    "    [0.3, 0.4, 0.3],\n",
    "    [0.0, 0.2, 0.8],\n",
    "    [0.0, 0.0, 1.0]\n",
    "])\n",
    "\n",
    "def simulate_markov_chain(P, initial_state=0):\n",
    "    current_state = initial_state\n",
    "    steps = 0\n",
    "    while current_state != 2:\n",
    "        steps += 1\n",
    "        current_state = np.random.choice(3, p=P[current_state])\n",
    "    return steps\n",
    "\n",
    "num_simulations = 10000\n",
    "initial_state = 0\n",
    "\n",
    "results = []\n",
    "for _ in range(num_simulations):\n",
    "    steps = simulate_markov_chain(P, initial_state)\n",
    "    results.append(steps)\n",
    "\n",
    "mean_steps = np.mean(results)\n",
    "std_steps = np.std(results)\n",
    "\n",
    "print(f\"E0: {mean_steps:.4f} дней\")"
   ]
  }
 ],
 "metadata": {
  "kernelspec": {
   "display_name": "Python 3",
   "language": "python",
   "name": "python3"
  },
  "language_info": {
   "codemirror_mode": {
    "name": "ipython",
    "version": 3
   },
   "file_extension": ".py",
   "mimetype": "text/x-python",
   "name": "python",
   "nbconvert_exporter": "python",
   "pygments_lexer": "ipython3",
   "version": "3.11.5"
  }
 },
 "nbformat": 4,
 "nbformat_minor": 2
}
