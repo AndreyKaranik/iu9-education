{
 "cells": [
  {
   "cell_type": "code",
   "execution_count": null,
   "metadata": {},
   "outputs": [
    {
     "name": "stdout",
     "output_type": "stream",
     "text": [
      "Среднее количество дней: 2.131\n"
     ]
    }
   ],
   "source": [
    "import numpy as np \n",
    " \n",
    "# Количество итераций (количество студентов в моделировании) \n",
    "num_simulations = 100000000\n",
    " \n",
    "# Начальные вероятности \n",
    "p1, p2, p3 = 0.3, 0.4, 0.3 \n",
    " \n",
    "# Вероятности переходов \n",
    "p_01, p_02 = 0.4, 0.3  # Из 0 в 1 и 2 \n",
    "p_11, p_12 = 0.2, 0.8  # Из 1 в 1 и 2 \n",
    " \n",
    "# Храним результаты времени сдачи \n",
    "times = [] \n",
    " \n",
    "for _ in range(num_simulations): \n",
    "    # Определяем начальное состояние \n",
    "    rand = np.random.rand() \n",
    "    if rand < p1: \n",
    "        state = 0  # Студент не начал \n",
    "    elif rand < p1 + p2: \n",
    "        state = 1  # Студент начал, но с ошибками \n",
    "    else: \n",
    "        state = 2  # Студент сразу сдал \n",
    " \n",
    "    # Симуляция процесса сдачи \n",
    "    days = 0 \n",
    "    while state != 2: \n",
    "        days += 1 \n",
    "        if state == 0: \n",
    "            rand = np.random.rand() \n",
    "            if rand < p_01: \n",
    "                state = 1 \n",
    "            elif rand < p_01 + p_02: \n",
    "                state = 2 \n",
    "        elif state == 1: \n",
    "            rand = np.random.rand() \n",
    "            if rand < p_11: \n",
    "                state = 1 \n",
    "            else: \n",
    "                state = 2 \n",
    " \n",
    "    times.append(days) \n",
    " \n",
    "# Среднее время сдачи по симуляциям \n",
    "E_simulated = np.mean(times) \n",
    "E_simulated\n"
   ]
  }
 ],
 "metadata": {
  "kernelspec": {
   "display_name": "Python 3",
   "language": "python",
   "name": "python3"
  },
  "language_info": {
   "codemirror_mode": {
    "name": "ipython",
    "version": 3
   },
   "file_extension": ".py",
   "mimetype": "text/x-python",
   "name": "python",
   "nbconvert_exporter": "python",
   "pygments_lexer": "ipython3",
   "version": "3.11.5"
  }
 },
 "nbformat": 4,
 "nbformat_minor": 2
}
