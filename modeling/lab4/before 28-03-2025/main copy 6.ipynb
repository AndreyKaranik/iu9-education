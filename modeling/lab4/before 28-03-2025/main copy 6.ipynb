{
 "cells": [
  {
   "cell_type": "code",
   "execution_count": null,
   "metadata": {},
   "outputs": [
    {
     "name": "stdout",
     "output_type": "stream",
     "text": [
      "Метрики для Диабет 1 типа (Логистическая регрессия):\n",
      "Accuracy: 0.83\n",
      "Precision: 0.57\n",
      "Recall: 0.86\n",
      "\n",
      "Метрики для Диабет 2 типа (Логистическая регрессия):\n",
      "Accuracy: 0.78\n",
      "Precision: 0.48\n",
      "Recall: 0.85\n",
      "\n"
     ]
    }
   ],
   "source": [
    "from sklearn.linear_model import LogisticRegression\n",
    "from sklearn.model_selection import train_test_split\n",
    "from sklearn.metrics import confusion_matrix, accuracy_score, precision_score, recall_score\n",
    "from sklearn.preprocessing import StandardScaler\n",
    "from imblearn.over_sampling import SMOTE\n",
    "import pandas as pd\n",
    "\n",
    "df = pd.read_csv(\"diabetes.csv\")\n",
    "\n",
    "df_type1 = df[(df['Outcome'] == 0) | (df['Insulin'] == 0)]\n",
    "df_type2 = df[(df['Outcome'] == 0) | (df['Insulin'] > 0)]\n",
    "\n",
    "X_type1 = df_type1.drop(columns=['Outcome'])\n",
    "y_type1 = df_type1['Outcome']\n",
    "\n",
    "X_type2 = df_type2.drop(columns=['Outcome'])\n",
    "y_type2 = df_type2['Outcome']\n",
    "\n",
    "X_train_type1, X_test_type1, y_train_type1, y_test_type1 = train_test_split(X_type1, y_type1, test_size=0.2, random_state=42, stratify=y_type1)\n",
    "X_train_type2, X_test_type2, y_train_type2, y_test_type2 = train_test_split(X_type2, y_type2, test_size=0.2, random_state=42, stratify=y_type2)\n",
    "\n",
    "smote = SMOTE(random_state=42)\n",
    "X_train_type1_balanced, y_train_type1_balanced = smote.fit_resample(X_train_type1, y_train_type1)\n",
    "X_train_type2_balanced, y_train_type2_balanced = smote.fit_resample(X_train_type2, y_train_type2)\n",
    "\n",
    "scaler = StandardScaler()\n",
    "X_train_type1_scaled = scaler.fit_transform(X_train_type1_balanced)\n",
    "X_test_type1_scaled = scaler.transform(X_test_type1)\n",
    "\n",
    "X_train_type2_scaled = scaler.fit_transform(X_train_type2_balanced)\n",
    "X_test_type2_scaled = scaler.transform(X_test_type2)\n",
    "\n",
    "log_reg_type1 = LogisticRegression()\n",
    "log_reg_type1.fit(X_train_type1_scaled, y_train_type1_balanced)\n",
    "y_pred_type1 = log_reg_type1.predict(X_test_type1_scaled)\n",
    "\n",
    "log_reg_type2 = LogisticRegression()\n",
    "log_reg_type2.fit(X_train_type2_scaled, y_train_type2_balanced)\n",
    "y_pred_type2 = log_reg_type2.predict(X_test_type2_scaled)\n",
    "\n",
    "def print_metrics(y_true, y_pred, model_name):\n",
    "    accuracy = accuracy_score(y_true, y_pred)\n",
    "    precision = precision_score(y_true, y_pred)\n",
    "    recall = recall_score(y_true, y_pred)\n",
    "    \n",
    "    print(f\"Метрики для {model_name}:\")\n",
    "    print(f\"Accuracy: {accuracy:.2f}\")\n",
    "    print(f\"Precision: {precision:.2f}\")\n",
    "    print(f\"Recall: {recall:.2f}\\n\")\n",
    "\n",
    "print_metrics(y_test_type1, y_pred_type1, \"Диабет 1 типа (Логистическая регрессия)\")\n",
    "print_metrics(y_test_type2, y_pred_type2, \"Диабет 2 типа (Логистическая регрессия)\")"
   ]
  }
 ],
 "metadata": {
  "kernelspec": {
   "display_name": "Python 3",
   "language": "python",
   "name": "python3"
  },
  "language_info": {
   "codemirror_mode": {
    "name": "ipython",
    "version": 3
   },
   "file_extension": ".py",
   "mimetype": "text/x-python",
   "name": "python",
   "nbconvert_exporter": "python",
   "pygments_lexer": "ipython3",
   "version": "3.11.5"
  }
 },
 "nbformat": 4,
 "nbformat_minor": 2
}
