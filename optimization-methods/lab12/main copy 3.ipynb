{
 "cells": [
  {
   "cell_type": "code",
   "execution_count": 28,
   "metadata": {},
   "outputs": [
    {
     "data": {
      "image/png": "[encoded data removed]",
      "text/html": [
       "<img src=\"data:image/png;base64,iVBORw0KGgoAAAANSUhEUgAAAJAAAACQCAIAAABoJHXvAAAAAXNSR0IArs4c6QAAAARnQU1BAACxjwv8YQUAAAAgY0hSTQAAeiYAAICEAAD6AAAAgOgAAHUwAADqYAAAOpgAABdwnLpRPAAAAU9JREFUeAHtwYEJwDAAwzAXfPg+795owJJcnnIPb7k8RTJFMkUyRTJFMkUyRTJFMkUyRTJFMkUyRTJFMkUyRTJFMkUyRTJFMkUyRTJFMkUyRTJFMkUyRTJFMkUyRTJFMkUyRTJFMkUyRTJFMkUyRTJFMkUyRTJFMkUyRTJFMkUec+7lJfccXiKZIpkimSKZIpkimSKZIpkimSKZIpkimSKZIpkimSKZIpkimSKZIpkimSKZIpkimSKZIpkimSKZIpkimSKZIpkimSKZIpkimSKZIpkimSKZIpkimSKZIpkimSKZIpnidy4v+e7hJedeXiKZIpkimSKZIpkimSKZIpkimSKZIpkimSKZIpkimSKZIpkimSKZIpkimSKZIpkimSKZIpkimSKZIpkimSKZIpkimSKZIpkimSKZIpkimSKZIpkimSKZIpkimSKZIpnyA7bkDT6VEdWEAAAAAElFTkSuQmCC\">"
      ],
      "text/plain": [
       "48×48 Array{RGB{Float64},2} with eltype RGB{Float64}:\n",
       " RGB{Float64}(0.0,1.0,0.0)  …  RGB{Float64}(1.0,1.0,0.0)\n",
       " RGB{Float64}(0.0,1.0,0.0)     RGB{Float64}(1.0,1.0,0.0)\n",
       " RGB{Float64}(0.0,1.0,0.0)     RGB{Float64}(1.0,1.0,0.0)\n",
       " RGB{Float64}(0.0,1.0,0.0)     RGB{Float64}(1.0,1.0,0.0)\n",
       " RGB{Float64}(0.0,1.0,0.0)     RGB{Float64}(1.0,1.0,0.0)\n",
       " RGB{Float64}(0.0,1.0,0.0)  …  RGB{Float64}(1.0,1.0,0.0)\n",
       " RGB{Float64}(0.0,1.0,0.0)     RGB{Float64}(1.0,1.0,0.0)\n",
       " RGB{Float64}(0.0,1.0,0.0)     RGB{Float64}(1.0,1.0,0.0)\n",
       " RGB{Float64}(0.0,1.0,0.0)     RGB{Float64}(1.0,1.0,0.0)\n",
       " RGB{Float64}(0.0,1.0,0.0)     RGB{Float64}(1.0,1.0,0.0)\n",
       " ⋮                          ⋱  \n",
       " RGB{Float64}(0.5,0.0,1.0)     RGB{Float64}(0.0,1.0,1.0)\n",
       " RGB{Float64}(0.5,0.0,1.0)  …  RGB{Float64}(0.0,1.0,1.0)\n",
       " RGB{Float64}(0.5,0.0,1.0)     RGB{Float64}(0.0,1.0,1.0)\n",
       " RGB{Float64}(0.5,0.0,1.0)     RGB{Float64}(0.0,1.0,1.0)\n",
       " RGB{Float64}(0.5,0.0,1.0)     RGB{Float64}(0.0,1.0,1.0)\n",
       " RGB{Float64}(0.5,0.0,1.0)     RGB{Float64}(0.0,1.0,1.0)\n",
       " RGB{Float64}(0.5,0.0,1.0)  …  RGB{Float64}(0.0,1.0,1.0)\n",
       " RGB{Float64}(0.5,0.0,1.0)     RGB{Float64}(0.0,1.0,1.0)\n",
       " RGB{Float64}(0.5,0.0,1.0)     RGB{Float64}(0.0,1.0,1.0)"
      ]
     },
     "metadata": {},
     "output_type": "display_data"
    },
    {
     "data": {
      "image/png": "[encoded data removed]",
      "text/html": [
       "<img src=\"data:image/png;base64,iVBORw0KGgoAAAANSUhEUgAAAJAAAACQCAIAAABoJHXvAAAAAXNSR0IArs4c6QAAAARnQU1BAACxjwv8YQUAAAAgY0hSTQAAeiYAAICEAAD6AAAAgOgAAHUwAADqYAAAOpgAABdwnLpRPAAAAU9JREFUeAHtwYEJwDAAwzAXfPg+795owJJcnnIPb7k8RTJFMkUyRTJFMkUyRTJFMkUyRTJFMkUyRTJFMkUyRTJFMkUyRTJFMkUyRTJFMkUyRTJFMkUyRTJFMkUyRTJFMkUyRTJFMkUyRTJFMkUyRTJFMkUyRTJFMkUyRTJFMkUec+7lJfccXiKZIpkimSKZIpkimSKZIpkimSKZIpkimSKZIpkimSKZIpkimSKZIpkimSKZIpkimSKZIpkimSKZIpkimSKZIpkimSKZIpkimSKZIpkimSKZIpkimSKZIpkimSKZIpnidy4v+e7hJedeXiKZIpkimSKZIpkimSKZIpkimSKZIpkimSKZIpkimSKZIpkimSKZIpkimSKZIpkimSKZIpkimSKZIpkimSKZIpkimSKZIpkimSKZIpkimSKZIpkimSKZIpkimSKZIpnyA7bkDT6VEdWEAAAAAElFTkSuQmCC\">"
      ],
      "text/plain": [
       "48×48 Array{RGB{Float64},2} with eltype RGB{Float64}:\n",
       " RGB{Float64}(0.0,1.0,0.0)  …  RGB{Float64}(1.0,1.0,0.0)\n",
       " RGB{Float64}(0.0,1.0,0.0)     RGB{Float64}(1.0,1.0,0.0)\n",
       " RGB{Float64}(0.0,1.0,0.0)     RGB{Float64}(1.0,1.0,0.0)\n",
       " RGB{Float64}(0.0,1.0,0.0)     RGB{Float64}(1.0,1.0,0.0)\n",
       " RGB{Float64}(0.0,1.0,0.0)     RGB{Float64}(1.0,1.0,0.0)\n",
       " RGB{Float64}(0.0,1.0,0.0)  …  RGB{Float64}(1.0,1.0,0.0)\n",
       " RGB{Float64}(0.0,1.0,0.0)     RGB{Float64}(1.0,1.0,0.0)\n",
       " RGB{Float64}(0.0,1.0,0.0)     RGB{Float64}(1.0,1.0,0.0)\n",
       " RGB{Float64}(0.0,1.0,0.0)     RGB{Float64}(1.0,1.0,0.0)\n",
       " RGB{Float64}(0.0,1.0,0.0)     RGB{Float64}(1.0,1.0,0.0)\n",
       " ⋮                          ⋱  \n",
       " RGB{Float64}(0.5,0.0,1.0)     RGB{Float64}(0.0,1.0,1.0)\n",
       " RGB{Float64}(0.5,0.0,1.0)  …  RGB{Float64}(0.0,1.0,1.0)\n",
       " RGB{Float64}(0.5,0.0,1.0)     RGB{Float64}(0.0,1.0,1.0)\n",
       " RGB{Float64}(0.5,0.0,1.0)     RGB{Float64}(0.0,1.0,1.0)\n",
       " RGB{Float64}(0.5,0.0,1.0)     RGB{Float64}(0.0,1.0,1.0)\n",
       " RGB{Float64}(0.5,0.0,1.0)     RGB{Float64}(0.0,1.0,1.0)\n",
       " RGB{Float64}(0.5,0.0,1.0)  …  RGB{Float64}(0.0,1.0,1.0)\n",
       " RGB{Float64}(0.5,0.0,1.0)     RGB{Float64}(0.0,1.0,1.0)\n",
       " RGB{Float64}(0.5,0.0,1.0)     RGB{Float64}(0.0,1.0,1.0)"
      ]
     },
     "metadata": {},
     "output_type": "display_data"
    },
    {
     "name": "stdout",
     "output_type": "stream",
     "text": [
      "\n",
      "==================================================\n",
      "ЗАПУСК ЭКСПЕРИМЕНТА: размер (3, 3), расстояние Хэмминга\n",
      "\n",
      "Размер матрицы: (3, 3), расстояние: Хэмминга\n",
      "Потребовалось поколений: 4\n",
      "\n",
      "Эталонное изображение:\n",
      "\n",
      "Финальный результат:\n",
      "\n",
      "Процесс эволюции:\n",
      "\n",
      "==================================================\n",
      "ЗАПУСК ЭКСПЕРИМЕНТА: размер (3, 3), расстояние Евклидово\n",
      "\n",
      "Размер матрицы: (3, 3), расстояние: Евклидово\n",
      "Потребовалось поколений: 5\n",
      "\n",
      "Эталонное изображение:\n",
      "\n",
      "Финальный результат:\n",
      "\n",
      "Процесс эволюции:\n",
      "\n",
      "==================================================\n",
      "ЗАПУСК ЭКСПЕРИМЕНТА: размер (5, 5), расстояние Хэмминга\n",
      "\n",
      "Размер матрицы: (5, 5), расстояние: Хэмминга\n",
      "Потребовалось поколений: 5\n",
      "\n",
      "Эталонное изображение:\n",
      "\n",
      "Финальный результат:\n",
      "\n",
      "Процесс эволюции:\n",
      "\n",
      "==================================================\n",
      "ЗАПУСК ЭКСПЕРИМЕНТА: размер (5, 5), расстояние Евклидово\n",
      "\n",
      "Размер матрицы: (5, 5), расстояние: Евклидово\n",
      "Потребовалось поколений: 9\n",
      "\n",
      "Эталонное изображение:\n",
      "\n",
      "Финальный результат:\n",
      "\n",
      "Процесс эволюции:\n",
      "\n",
      "==================================================\n",
      "ЗАПУСК ЭКСПЕРИМЕНТА: размер (9, 9), расстояние Хэмминга\n",
      "\n",
      "Размер матрицы: (9, 9), расстояние: Хэмминга\n",
      "Потребовалось поколений: 11\n",
      "\n",
      "Эталонное изображение:\n",
      "\n",
      "Финальный результат:\n",
      "\n",
      "Процесс эволюции:\n",
      "\n",
      "==================================================\n",
      "ЗАПУСК ЭКСПЕРИМЕНТА: размер (9, 9), расстояние Евклидово\n",
      "\n",
      "Размер матрицы: (9, 9), расстояние: Евклидово\n",
      "Потребовалось поколений: 10\n",
      "\n",
      "Эталонное изображение:\n",
      "\n",
      "Финальный результат:\n",
      "\n",
      "Процесс эволюции:\n",
      "\n",
      "==================================================\n",
      "ЗАПУСК ЭКСПЕРИМЕНТА: размер (21, 21), расстояние Хэмминга\n",
      "\n",
      "Размер матрицы: (21, 21), расстояние: Хэмминга\n",
      "Потребовалось поколений: 16\n",
      "\n",
      "==================================================\n",
      "ЗАПУСК ЭКСПЕРИМЕНТА: размер (21, 21), расстояние Евклидово\n",
      "\n",
      "Размер матрицы: (21, 21), расстояние: Евклидово\n",
      "Потребовалось поколений: 15\n"
     ]
    },
    {
     "data": {
      "text/html": [
       "<div style=\"width:96px; height:96px; image-rendering: pixelated;\">\n",
       "    <img src=\"data:image/gif;base64,R0lGODlhMAAwAPIAAP8AAAD/AP+AAAAA/4AA/wD//wAAAAAAACH/C05FVFNDQVBFMi4wAwEAAAAh+QQAFAAAACH/C0ltYWdlTWFnaWNrDmdhbW1hPTAuNDU0NTQ1ACwAAAAAMAAwAAAD0li63AUwygmCvTgHxxf9kSZeXQeC41hy55eKq9NSrxY381RnN5NLO0zP84MEScNHsXLcJJfMY1JZbDqHUOs029wutc9vN1xtDs7otHrgLa7f6PYPDpfn6G/7DL/Wt/hqfieAaYIghHFkc4hsineMhh+MjVhLk5EUl457kJt/nZVuoD1QAqanqKkCBKytrq8EU6qzp7C2rbK0s7e3ubqpvLa+v7XBr8PEq8auyMTLzEnJqM+40dKm1KzNv9mx1tfd27rh39LkQ9fY2eK05z3pytRTCQAh+QQAFAAAACH/C0ltYWdlTWFnaWNrDmdhbW1hPTAuNDU0NTQ1ACwAAAAAMAAwAIL/AAAA/wD//wCAAP8A//8AAAAAAAAAAAADwki63AQwygmEvTgLxxf9kSZeXQeC41hy55eKq9NSrxY381RnN5NLO0zP84MEScNHsXLcJJfMY1JZbDqHUOs029wutc9vN1xtBs7otDrgLa7f6PYPDpfn6G/7DL/Wt/hqfieAaYIghHFkc4hsineMhh+MjVhLk5EUl457kJt/nZVuoD1QUwOnqKmqA1Omq6+nrUmwsLJDtK+2Pbiruje8qr4xwKnCK8SoxiXIscoczKzODtDS08zVDdTYC9rbBN3b4DcJACH5BAAUAAAAIf8LSW1hZ2VNYWdpY2sOZ2FtbWE9MC40NTQ1NDUALAAAAAAwADAAgv8AAAD/AP//AIAA/wD//wAAAAAAAAAAAAPCGLrcATDKCYS9OAvHF/2RJl5dB4LjWHLnl4qr01KvFjfzVGc3k0s7TM/zgwRJw0exctwkl8xjUllsOodQ6zTb3C61z283XB0PCei0ek2ATtnwtDsZj8/Pdfa9l9cv331qezeBgn90hWiDMYmKh3iJiyuNbY98jZIllJkdm5aEmJ+MoUWUA6eoqaoDlKarr6etjbCwsom0r7aFuKu6gbyqvn3AqcJ5xKjGdcixynDMrM5s0NLTzNVr1Nhp2tsE3dvggQkAIfkEABQAAAAh/wtJbWFnZU1hZ2ljaw5nYW1tYT0wLjQ1NDU0NQAsAAAAADAAMACB/wAAAP8A//8AAP//AqqMjxnA7Q+EnLQKhQ/czfqZZRz3fSE2bqV3Kim0Wm3yPnE1I7VzU7m2Y/RAv0UwMrwUj8hh0RhMKn9M6bOavB6ty222G/3+BuSy+TxgPtHssrrYbr/HcfQ8V7cf13nzfdbntwcXSPbXUmg4SFd4eJKYtoiX6BgCWZlxKQlIuYnYGQTJB1k4StpnelqXqtrG2or2CmsmO0tWa4s7qwvL2+qrCnwqTEosSlhYAAAh+QQAFAAAACH/C0ltYWdlTWFnaWNrDmdhbW1hPTAuNDU0NTQ1ACwAAAAAMAAwAIL/AAAA/wD//wCAAP8A//8AAAAAAAAAAAADwxi63AEwygmEvTgLxxf9kSZeXQeC41hy55eKq9NSrxY381RnN5NLO0zP84MEScNHsXLcJJfMY1JZbDqHUOs029wutc9vN1wdDwnotHpNgE7Z8LQ7GY/Pz3X2vZfXL999ans3gYJ/dIVogzGJiod4iYsrjW2PfI2SJZSZHZuWhJifjKFFA6anqKkDgImqrqesha+vsYGzrrV9t6q5ebupvXW/qMFxw7CIrcerybLLxXDLzJDOx9Bs0tdr2c22z92639SBCQA7\" \n",
       "         width=\"96\" height=\"96\"\n",
       "         style=\"image-rendering: pixelated;\">\n",
       "</div>\n"
      ]
     },
     "metadata": {},
     "output_type": "display_data"
    },
    {
     "data": {
      "image/png": "[encoded data removed]",
      "text/html": [
       "<img src=\"data:image/png;base64,iVBORw0KGgoAAAANSUhEUgAAAJAAAACQCAIAAABoJHXvAAAAAXNSR0IArs4c6QAAAARnQU1BAACxjwv8YQUAAAAgY0hSTQAAeiYAAICEAAD6AAAAgOgAAHUwAADqYAAAOpgAABdwnLpRPAAAAU5JREFUeAHtwcFtBDEAxDAtoMKdyp0K7u8BRMrlLd/lJYe3SKZIpkimSKZIpkimSKZIpkimSKZIpkimSKZIpkimSKZIpkimSKZIpkimSKZIpkimSKZIpkimSKZIpkimSKZIpkimSKZIpkimSKZIpkimSKZIpkimSKZIpkimSKZIpnj/eMv5yG+SKZIpkimSKZIpkimSKZIpkimSKZIpkimSKZIpkimSKZIpkimSKZIpkimSKZIpkimSKZIpkimSKZIpkimSKZIpkimSKZIpkimSKZIpkimSKZIpkimSKZIpkimSKZIpcnjKd3nK+S4vkUyRTJFMkUyRTJFMkUyRTJFMkUyRTJFMkUyRTJFMkUyRTJFMkUyRTJFMkUyRTJFMkUyRTJFMkUyRTJFMkUyRTJFMkUyRTJFMkUyRTJFMkUyRTJFMkUyRTJFMkUyRTPkHYOcJwWvV2vwAAAAASUVORK5C\">"
      ],
      "text/plain": [
       "48×48 Array{RGB{Float64},2} with eltype RGB{Float64}:\n",
       " RGB{Float64}(0.0,1.0,0.0)  …  RGB{Float64}(0.5,0.0,1.0)\n",
       " RGB{Float64}(0.0,1.0,0.0)     RGB{Float64}(0.5,0.0,1.0)\n",
       " RGB{Float64}(0.0,1.0,0.0)     RGB{Float64}(0.5,0.0,1.0)\n",
       " RGB{Float64}(0.0,1.0,0.0)     RGB{Float64}(0.5,0.0,1.0)\n",
       " RGB{Float64}(0.0,1.0,0.0)     RGB{Float64}(0.5,0.0,1.0)\n",
       " RGB{Float64}(0.0,1.0,0.0)  …  RGB{Float64}(0.5,0.0,1.0)\n",
       " RGB{Float64}(0.0,1.0,0.0)     RGB{Float64}(0.5,0.0,1.0)\n",
       " RGB{Float64}(0.0,1.0,0.0)     RGB{Float64}(0.5,0.0,1.0)\n",
       " RGB{Float64}(0.0,1.0,0.0)     RGB{Float64}(0.5,0.0,1.0)\n",
       " RGB{Float64}(0.0,1.0,0.0)     RGB{Float64}(0.5,0.0,1.0)\n",
       " ⋮                          ⋱  \n",
       " RGB{Float64}(1.0,0.0,0.0)     RGB{Float64}(0.5,0.0,1.0)\n",
       " RGB{Float64}(1.0,0.0,0.0)  …  RGB{Float64}(0.5,0.0,1.0)\n",
       " RGB{Float64}(1.0,0.0,0.0)     RGB{Float64}(0.5,0.0,1.0)\n",
       " RGB{Float64}(1.0,0.0,0.0)     RGB{Float64}(0.5,0.0,1.0)\n",
       " RGB{Float64}(1.0,0.0,0.0)     RGB{Float64}(0.5,0.0,1.0)\n",
       " RGB{Float64}(1.0,0.0,0.0)     RGB{Float64}(0.5,0.0,1.0)\n",
       " RGB{Float64}(1.0,0.0,0.0)  …  RGB{Float64}(0.5,0.0,1.0)\n",
       " RGB{Float64}(1.0,0.0,0.0)     RGB{Float64}(0.5,0.0,1.0)\n",
       " RGB{Float64}(1.0,0.0,0.0)     RGB{Float64}(0.5,0.0,1.0)"
      ]
     },
     "metadata": {},
     "output_type": "display_data"
    },
    {
     "data": {
      "image/png": "[encoded data removed]",
      "text/html": [
       "<img src=\"data:image/png;base64,iVBORw0KGgoAAAANSUhEUgAAAJAAAACQCAIAAABoJHXvAAAAAXNSR0IArs4c6QAAAARnQU1BAACxjwv8YQUAAAAgY0hSTQAAeiYAAICEAAD6AAAAgOgAAHUwAADqYAAAOpgAABdwnLpRPAAAAU5JREFUeAHtwcFtBDEAxDAtoMKdyp0K7u8BRMrlLd/lJYe3SKZIpkimSKZIpkimSKZIpkimSKZIpkimSKZIpkimSKZIpkimSKZIpkimSKZIpkimSKZIpkimSKZIpkimSKZIpkimSKZIpkimSKZIpkimSKZIpkimSKZIpkimSKZIpnj/eMv5yG+SKZIpkimSKZIpkimSKZIpkimSKZIpkimSKZIpkimSKZIpkimSKZIpkimSKZIpkimSKZIpkimSKZIpkimSKZIpkimSKZIpkimSKZIpkimSKZIpkimSKZIpkimSKZIpcnjKd3nK+S4vkUyRTJFMkUyRTJFMkUyRTJFMkUyRTJFMkUyRTJFMkUyRTJFMkUyRTJFMkUyRTJFMkUyRTJFMkUyRTJFMkUyRTJFMkUyRTJFMkUyRTJFMkUyRTJFMkUyRTJFMkUyRTPkHYOcJwWvV2vwAAAAASUVORK5C\">"
      ],
      "text/plain": [
       "48×48 Array{RGB{Float64},2} with eltype RGB{Float64}:\n",
       " RGB{Float64}(0.0,1.0,0.0)  …  RGB{Float64}(0.5,0.0,1.0)\n",
       " RGB{Float64}(0.0,1.0,0.0)     RGB{Float64}(0.5,0.0,1.0)\n",
       " RGB{Float64}(0.0,1.0,0.0)     RGB{Float64}(0.5,0.0,1.0)\n",
       " RGB{Float64}(0.0,1.0,0.0)     RGB{Float64}(0.5,0.0,1.0)\n",
       " RGB{Float64}(0.0,1.0,0.0)     RGB{Float64}(0.5,0.0,1.0)\n",
       " RGB{Float64}(0.0,1.0,0.0)  …  RGB{Float64}(0.5,0.0,1.0)\n",
       " RGB{Float64}(0.0,1.0,0.0)     RGB{Float64}(0.5,0.0,1.0)\n",
       " RGB{Float64}(0.0,1.0,0.0)     RGB{Float64}(0.5,0.0,1.0)\n",
       " RGB{Float64}(0.0,1.0,0.0)     RGB{Float64}(0.5,0.0,1.0)\n",
       " RGB{Float64}(0.0,1.0,0.0)     RGB{Float64}(0.5,0.0,1.0)\n",
       " ⋮                          ⋱  \n",
       " RGB{Float64}(1.0,0.0,0.0)     RGB{Float64}(0.5,0.0,1.0)\n",
       " RGB{Float64}(1.0,0.0,0.0)  …  RGB{Float64}(0.5,0.0,1.0)\n",
       " RGB{Float64}(1.0,0.0,0.0)     RGB{Float64}(0.5,0.0,1.0)\n",
       " RGB{Float64}(1.0,0.0,0.0)     RGB{Float64}(0.5,0.0,1.0)\n",
       " RGB{Float64}(1.0,0.0,0.0)     RGB{Float64}(0.5,0.0,1.0)\n",
       " RGB{Float64}(1.0,0.0,0.0)     RGB{Float64}(0.5,0.0,1.0)\n",
       " RGB{Float64}(1.0,0.0,0.0)  …  RGB{Float64}(0.5,0.0,1.0)\n",
       " RGB{Float64}(1.0,0.0,0.0)     RGB{Float64}(0.5,0.0,1.0)\n",
       " RGB{Float64}(1.0,0.0,0.0)     RGB{Float64}(0.5,0.0,1.0)"
      ]
     },
     "metadata": {},
     "output_type": "display_data"
    },
    {
     "data": {
      "text/html": [
       "<div style=\"width:96px; height:96px; image-rendering: pixelated;\">\n",
       "    <img src=\"data:image/gif;base64,R0lGODlhMAAwAPIAAP8AAP+AAP//AAAA/wD//wAAAAAAAAAAACH/C05FVFNDQVBFMi4wAwEAAAAh+QQAFAAAACH/C0ltYWdlTWFnaWNrDmdhbW1hPTAuNDU0NTQ1ACwAAAAAMAAwAAADwQi63CAwyimIvTgTxxf9kSZeXQeC41hy55eKq9NSrxY381RnN5NLO0zP84MEScNHsXLcJJfMY1JZbDqHUOs029wutc9vN1xtDs7otHoQaLvf8IB1TUfH7+55nY7H6/dqfXd/gHaCcISFbIdviYWMjWaKhpBykpOLlY6AlW2be52WR5hnoZ91ppeTqaOkrEGkmZBWXEdQtUG3Yra6P7S9Ob/ALcLDKE3GxMjJx7zMNMvPOtHSIdTVUbnY1s7bxdjfMwkAIfkEABQAAAAh/wtJbWFnZU1hZ2ljaw5nYW1tYT0wLjQ1NDU0NQAsAAAAADAAMACCAP8A/4AA//8AgAD/AP//AAAAAAAAAAAAA7cYutwxMMo5iL04E8cX/ZEmXl0HguNYcueXiqvTUq8WN/NUZzeTSztMz/ODBEnDR7Fy3CSXzGNSWWw6h1DrNNvcLrXPbzdcHU+H4HMvrY6x26U3nCOfN+r2BT4f2Of9doBzgnCEbYZqiGeKU1YCj5CRkgIAlZaXmACTm5ydj5mglp6jo6GhpKibpqCprZCrma6usJiyrbSXtqm4orqkvJW+v8DCpcTFncCayJzKzM3Hz5LO0tPRqAkAIfkEABQAAAAh/wtJbWFnZU1hZ2ljaw5nYW1tYT0wLjQ1NDU0NQAsAAAAADAAMACC/wAAAP8A/4AAAAD/gAD/AP//AAAAAAAAA84YutwxMMo5ir04F8cX/ZEmXl0HguNYcueXiqvTUq8WN/NUZzeTSztMz/ODBEnDR7Fy3CSXzGNSWWw6h1DrNNvcLrXPbzdcbQrO6LR6zU4D3vC4HNCu29XzPPzOr+v1fYF4f3OChgKEhYeBiXKLjI17j3yRkpN2lW+Xd5l0m36Zn6CVom2dpWynqIOkq26dmVMEs7S1tgSdsre7s7lJvLy+Q8C7wj3Et8Y3yLbKMcy1zivQtNIl1L2xv9jWHdi42sPc4cfjlbrU3Rzf6g7fCQAh+QQAFAAAACH/C0ltYWdlTWFnaWNrDmdhbW1hPTAuNDU0NTQ1ACwAAAAAMAAwAIL/AAAA/wD/gAD//wAAAP+AAP8AAAAAAAADzji63EMwykmKvTgXxxf9kSZeXQeC41hy55eKq9NSrxY381RnN5NLO0zP84MEScNHsXLcJJfMY1JZbDqHUOs029wutc9vN1xtCs7otHrNTgPe8Lgc0K7b1fM8/M6v6/V9gXh/c4KGAoSFh4GJcouMjXuPfJGSk3aVb5d3mXSbfpmfoJWibZ2lbKeog6Srbp2ZAbKztLUBVp22urO4sbu6vZW/wE25w7XBkcfIxb7LssmNz7zNwtO31crX0YnX2EfG09yE3uN/5dnS2+nd60cJACH5BAAUAAAAIf8LSW1hZ2VNYWdpY2sOZ2FtbWE9MC40NTQ1NDUALAAAAAAwADAAgv8AAAD/AP+AAAAA/4AA/wAAAAAAAAAAAAO/GLrcMTDKOYi9OBPHF/2RJl5dB4LjWHLnl4qr01KvFjfzVGc3k0s7TM/zgwRJw0exctwkl8xjUllsOodQ6zTb3C61z283XG0Kzui0es1OA97wuBzQrtvV8zz8zq/r9X2BeH9zgoYChIWHgYlyi4yNe498kZKTdpVvl3eZdJt+mZ+glaJtnaVsp6iDpKtunZlTVp2yTbRJs7G4trpDuZW1R7e+vMC7wr09v5HBQcPKxczHzsk3y43NO8/W0djTOwkAIfkEABQAAAAh/wtJbWFnZU1hZ2ljaw5nYW1tYT0wLjQ1NDU0NQAsAAAAADAAMACC/wAAAP8A/4AAAAD/gAD/AAAAAAAAAAAAA6sYutwxMMo5iL04E8cX/ZEmXl0HguNYcueXiqvTUq8WN/NUZzeTSztMz/ODBEnDR7Fy3CSXzGNSWWw6h1DrNNvcLrXPbzdcbQrO6LR6zW673/C4fE6v2+/4vH7P7/v/gIGCg4SFhoeIiYqLgACOj5CRAFNWkpaPlE2Xl5lHm5adQZ+SoTujkaU1p5CpL6uYSZWvk7Gas60ps7RDsq+4I7q/IsG1nrfFose8TQkAOw==\" \n",
       "         width=\"96\" height=\"96\"\n",
       "         style=\"image-rendering: pixelated;\">\n",
       "</div>\n"
      ]
     },
     "metadata": {},
     "output_type": "display_data"
    },
    {
     "data": {
      "image/png": "[encoded data removed]",
      "text/html": [
       "<img src=\"data:image/png;base64,iVBORw0KGgoAAAANSUhEUgAAAGQAAABkCAIAAAD/gAIDAAAAAXNSR0IArs4c6QAAAARnQU1BAACxjwv8YQUAAAAgY0hSTQAAeiYAAICEAAD6AAAAgOgAAHUwAADqYAAAOpgAABdwnLpRPAAAAQhJREFUeAHtwcGNGzAAxEAKYN+2K1daIHSPfHZGLu/O5dk9vLo/nv2+l1cymUwmk8lkMplMJpPJZDKZTCaTyWQymUwmk8lkMplMJpN5fzw79/Dq8gdfnn15J5PJZDKZTCaTyWQymUwmk8lkMplMJpPJZDKZTCaTyWQymed7eXU/h1fnXF7de3h3eCWTyWQymUwmk8lkMplMJpPJZDKZTCaTyWQymUwmk8lkMpn3Hv6HL+8Ol1f3d3glk8lkMplMJpPJZDKZTCaTyWQymUwmk8lkMplMJpPJZDKZ/MWPZ5/v4dWHP/jyTCaTyWQymUwmk8lkMplMJpPJZDKZTCaTyWQymUwmk8lksn+v7RoQoXsTQwAAAABJRU5ErkJg\">"
      ],
      "text/plain": [
       "50×50 Array{RGB{Float64},2} with eltype RGB{Float64}:\n",
       " RGB{Float64}(0.0,1.0,0.0)  …  RGB{Float64}(0.5,0.0,1.0)\n",
       " RGB{Float64}(0.0,1.0,0.0)     RGB{Float64}(0.5,0.0,1.0)\n",
       " RGB{Float64}(0.0,1.0,0.0)     RGB{Float64}(0.5,0.0,1.0)\n",
       " RGB{Float64}(0.0,1.0,0.0)     RGB{Float64}(0.5,0.0,1.0)\n",
       " RGB{Float64}(0.0,1.0,0.0)     RGB{Float64}(0.5,0.0,1.0)\n",
       " RGB{Float64}(0.0,1.0,0.0)  …  RGB{Float64}(0.5,0.0,1.0)\n",
       " RGB{Float64}(0.0,1.0,0.0)     RGB{Float64}(0.5,0.0,1.0)\n",
       " RGB{Float64}(0.0,1.0,0.0)     RGB{Float64}(0.5,0.0,1.0)\n",
       " RGB{Float64}(0.0,1.0,0.0)     RGB{Float64}(0.5,0.0,1.0)\n",
       " RGB{Float64}(0.0,1.0,0.0)     RGB{Float64}(0.5,0.0,1.0)\n",
       " ⋮                          ⋱  \n",
       " RGB{Float64}(1.0,1.0,0.0)     RGB{Float64}(1.0,0.0,0.0)\n",
       " RGB{Float64}(1.0,1.0,0.0)     RGB{Float64}(1.0,0.0,0.0)\n",
       " RGB{Float64}(1.0,1.0,0.0)     RGB{Float64}(1.0,0.0,0.0)\n",
       " RGB{Float64}(1.0,1.0,0.0)     RGB{Float64}(1.0,0.0,0.0)\n",
       " RGB{Float64}(1.0,1.0,0.0)  …  RGB{Float64}(1.0,0.0,0.0)\n",
       " RGB{Float64}(1.0,1.0,0.0)     RGB{Float64}(1.0,0.0,0.0)\n",
       " RGB{Float64}(1.0,1.0,0.0)     RGB{Float64}(1.0,0.0,0.0)\n",
       " RGB{Float64}(1.0,1.0,0.0)     RGB{Float64}(1.0,0.0,0.0)\n",
       " RGB{Float64}(1.0,1.0,0.0)     RGB{Float64}(1.0,0.0,0.0)"
      ]
     },
     "metadata": {},
     "output_type": "display_data"
    },
    {
     "data": {
      "image/png": "[encoded data removed]",
      "text/html": [
       "<img src=\"data:image/png;base64,iVBORw0KGgoAAAANSUhEUgAAAGQAAABkCAIAAAD/gAIDAAAAAXNSR0IArs4c6QAAAARnQU1BAACxjwv8YQUAAAAgY0hSTQAAeiYAAICEAAD6AAAAgOgAAHUwAADqYAAAOpgAABdwnLpRPAAAAQhJREFUeAHtwcGNGzAAxEAKYN+2K1daIHSPfHZGLu/O5dk9vLo/nv2+l1cymUwmk8lkMplMJpPJZDKZTCaTyWQymUwmk8lkMplMJpN5fzw79/Dq8gdfnn15J5PJZDKZTCaTyWQymUwmk8lkMplMJpPJZDKZTCaTyWQymed7eXU/h1fnXF7de3h3eCWTyWQymUwmk8lkMplMJpPJZDKZTCaTyWQymUwmk8lkMpn3Hv6HL+8Ol1f3d3glk8lkMplMJpPJZDKZTCaTyWQymUwmk8lkMplMJpPJZDKZ/MWPZ5/v4dWHP/jyTCaTyWQymUwmk8lkMplMJpPJZDKZTCaTyWQymUwmk8lksn+v7RoQoXsTQwAAAABJRU5ErkJg\">"
      ],
      "text/plain": [
       "50×50 Array{RGB{Float64},2} with eltype RGB{Float64}:\n",
       " RGB{Float64}(0.0,1.0,0.0)  …  RGB{Float64}(0.5,0.0,1.0)\n",
       " RGB{Float64}(0.0,1.0,0.0)     RGB{Float64}(0.5,0.0,1.0)\n",
       " RGB{Float64}(0.0,1.0,0.0)     RGB{Float64}(0.5,0.0,1.0)\n",
       " RGB{Float64}(0.0,1.0,0.0)     RGB{Float64}(0.5,0.0,1.0)\n",
       " RGB{Float64}(0.0,1.0,0.0)     RGB{Float64}(0.5,0.0,1.0)\n",
       " RGB{Float64}(0.0,1.0,0.0)  …  RGB{Float64}(0.5,0.0,1.0)\n",
       " RGB{Float64}(0.0,1.0,0.0)     RGB{Float64}(0.5,0.0,1.0)\n",
       " RGB{Float64}(0.0,1.0,0.0)     RGB{Float64}(0.5,0.0,1.0)\n",
       " RGB{Float64}(0.0,1.0,0.0)     RGB{Float64}(0.5,0.0,1.0)\n",
       " RGB{Float64}(0.0,1.0,0.0)     RGB{Float64}(0.5,0.0,1.0)\n",
       " ⋮                          ⋱  \n",
       " RGB{Float64}(1.0,1.0,0.0)     RGB{Float64}(1.0,0.0,0.0)\n",
       " RGB{Float64}(1.0,1.0,0.0)     RGB{Float64}(1.0,0.0,0.0)\n",
       " RGB{Float64}(1.0,1.0,0.0)     RGB{Float64}(1.0,0.0,0.0)\n",
       " RGB{Float64}(1.0,1.0,0.0)     RGB{Float64}(1.0,0.0,0.0)\n",
       " RGB{Float64}(1.0,1.0,0.0)  …  RGB{Float64}(1.0,0.0,0.0)\n",
       " RGB{Float64}(1.0,1.0,0.0)     RGB{Float64}(1.0,0.0,0.0)\n",
       " RGB{Float64}(1.0,1.0,0.0)     RGB{Float64}(1.0,0.0,0.0)\n",
       " RGB{Float64}(1.0,1.0,0.0)     RGB{Float64}(1.0,0.0,0.0)\n",
       " RGB{Float64}(1.0,1.0,0.0)     RGB{Float64}(1.0,0.0,0.0)"
      ]
     },
     "metadata": {},
     "output_type": "display_data"
    },
    {
     "data": {
      "text/html": [
       "<div style=\"width:100px; height:100px; image-rendering: pixelated;\">\n",
       "    <img src=\"data:image/gif;base64,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\" \n",
       "         width=\"100\" height=\"100\"\n",
       "         style=\"image-rendering: pixelated;\">\n",
       "</div>\n"
      ]
     },
     "metadata": {},
     "output_type": "display_data"
    },
    {
     "data": {
      "image/png": "[encoded data removed]",
      "text/html": [
       "<img src=\"data:image/png;base64,iVBORw0KGgoAAAANSUhEUgAAAGQAAABkCAIAAAD/gAIDAAAAAXNSR0IArs4c6QAAAARnQU1BAACxjwv8YQUAAAAgY0hSTQAAeiYAAICEAAD6AAAAgOgAAHUwAADqYAAAOpgAABdwnLpRPAAAAQhJREFUeAHtwcGNJDkAxEAKoN/VY7nOBUL32E9GeHl3uLz68e77HV6d7/JKJpPJZDKZTCaTyWQymUwmk8lkMplMJpPJZDKZTCaTyWQyuTy7HF79ncur8/Hscnglk8lkMplMJpPJZDKZTCaTyWQymUwmk8lkMplMJpPJZDKZf+fy6ruHV9/v8Orj35DJZDKZTCaTyWQymUwmk8lkMplMJpPJZDKZTCaTyWQymcyPw7PDsz8uz348++7hlUwmk8lkMplMJpPJZDKZTCaTyWQymUwmk8lkMplMJpPJZHL5Nw7PfvwP5/JKJpPJZDKZTCaTyWQymUwmk8lkMplMJpPJZDKZTCaTyWSy/wAitRaOiimTywAAAABJRU5ErkJg\">"
      ],
      "text/plain": [
       "50×50 Array{RGB{Float64},2} with eltype RGB{Float64}:\n",
       " RGB{Float64}(1.0,0.0,0.0)  …  RGB{Float64}(0.0,1.0,1.0)\n",
       " RGB{Float64}(1.0,0.0,0.0)     RGB{Float64}(0.0,1.0,1.0)\n",
       " RGB{Float64}(1.0,0.0,0.0)     RGB{Float64}(0.0,1.0,1.0)\n",
       " RGB{Float64}(1.0,0.0,0.0)     RGB{Float64}(0.0,1.0,1.0)\n",
       " RGB{Float64}(1.0,0.0,0.0)     RGB{Float64}(0.0,1.0,1.0)\n",
       " RGB{Float64}(1.0,0.0,0.0)  …  RGB{Float64}(0.0,1.0,1.0)\n",
       " RGB{Float64}(1.0,0.0,0.0)     RGB{Float64}(0.0,1.0,1.0)\n",
       " RGB{Float64}(1.0,0.0,0.0)     RGB{Float64}(0.0,1.0,1.0)\n",
       " RGB{Float64}(1.0,0.0,0.0)     RGB{Float64}(0.0,1.0,1.0)\n",
       " RGB{Float64}(1.0,0.0,0.0)     RGB{Float64}(0.0,1.0,1.0)\n",
       " ⋮                          ⋱  \n",
       " RGB{Float64}(1.0,1.0,0.0)     RGB{Float64}(0.5,0.0,1.0)\n",
       " RGB{Float64}(1.0,1.0,0.0)     RGB{Float64}(0.5,0.0,1.0)\n",
       " RGB{Float64}(1.0,1.0,0.0)     RGB{Float64}(0.5,0.0,1.0)\n",
       " RGB{Float64}(1.0,1.0,0.0)     RGB{Float64}(0.5,0.0,1.0)\n",
       " RGB{Float64}(1.0,1.0,0.0)  …  RGB{Float64}(0.5,0.0,1.0)\n",
       " RGB{Float64}(1.0,1.0,0.0)     RGB{Float64}(0.5,0.0,1.0)\n",
       " RGB{Float64}(1.0,1.0,0.0)     RGB{Float64}(0.5,0.0,1.0)\n",
       " RGB{Float64}(1.0,1.0,0.0)     RGB{Float64}(0.5,0.0,1.0)\n",
       " RGB{Float64}(1.0,1.0,0.0)     RGB{Float64}(0.5,0.0,1.0)"
      ]
     },
     "metadata": {},
     "output_type": "display_data"
    },
    {
     "data": {
      "image/png": "[encoded data removed]",
      "text/html": [
       "<img src=\"data:image/png;base64,iVBORw0KGgoAAAANSUhEUgAAAGQAAABkCAIAAAD/gAIDAAAAAXNSR0IArs4c6QAAAARnQU1BAACxjwv8YQUAAAAgY0hSTQAAeiYAAICEAAD6AAAAgOgAAHUwAADqYAAAOpgAABdwnLpRPAAAAQhJREFUeAHtwcGNJDkAxEAKoN/VY7nOBUL32E9GeHl3uLz68e77HV6d7/JKJpPJZDKZTCaTyWQymUwmk8lkMplMJpPJZDKZTCaTyWQyuTy7HF79ncur8/Hscnglk8lkMplMJpPJZDKZTCaTyWQymUwmk8lkMplMJpPJZDKZf+fy6ruHV9/v8Orj35DJZDKZTCaTyWQymUwmk8lkMplMJpPJZDKZTCaTyWQymcyPw7PDsz8uz348++7hlUwmk8lkMplMJpPJZDKZTCaTyWQymUwmk8lkMplMJpPJZHL5Nw7PfvwP5/JKJpPJZDKZTCaTyWQymUwmk8lkMplMJpPJZDKZTCaTyWSy/wAitRaOiimTywAAAABJRU5ErkJg\">"
      ],
      "text/plain": [
       "50×50 Array{RGB{Float64},2} with eltype RGB{Float64}:\n",
       " RGB{Float64}(1.0,0.0,0.0)  …  RGB{Float64}(0.0,1.0,1.0)\n",
       " RGB{Float64}(1.0,0.0,0.0)     RGB{Float64}(0.0,1.0,1.0)\n",
       " RGB{Float64}(1.0,0.0,0.0)     RGB{Float64}(0.0,1.0,1.0)\n",
       " RGB{Float64}(1.0,0.0,0.0)     RGB{Float64}(0.0,1.0,1.0)\n",
       " RGB{Float64}(1.0,0.0,0.0)     RGB{Float64}(0.0,1.0,1.0)\n",
       " RGB{Float64}(1.0,0.0,0.0)  …  RGB{Float64}(0.0,1.0,1.0)\n",
       " RGB{Float64}(1.0,0.0,0.0)     RGB{Float64}(0.0,1.0,1.0)\n",
       " RGB{Float64}(1.0,0.0,0.0)     RGB{Float64}(0.0,1.0,1.0)\n",
       " RGB{Float64}(1.0,0.0,0.0)     RGB{Float64}(0.0,1.0,1.0)\n",
       " RGB{Float64}(1.0,0.0,0.0)     RGB{Float64}(0.0,1.0,1.0)\n",
       " ⋮                          ⋱  \n",
       " RGB{Float64}(1.0,1.0,0.0)     RGB{Float64}(0.5,0.0,1.0)\n",
       " RGB{Float64}(1.0,1.0,0.0)     RGB{Float64}(0.5,0.0,1.0)\n",
       " RGB{Float64}(1.0,1.0,0.0)     RGB{Float64}(0.5,0.0,1.0)\n",
       " RGB{Float64}(1.0,1.0,0.0)     RGB{Float64}(0.5,0.0,1.0)\n",
       " RGB{Float64}(1.0,1.0,0.0)  …  RGB{Float64}(0.5,0.0,1.0)\n",
       " RGB{Float64}(1.0,1.0,0.0)     RGB{Float64}(0.5,0.0,1.0)\n",
       " RGB{Float64}(1.0,1.0,0.0)     RGB{Float64}(0.5,0.0,1.0)\n",
       " RGB{Float64}(1.0,1.0,0.0)     RGB{Float64}(0.5,0.0,1.0)\n",
       " RGB{Float64}(1.0,1.0,0.0)     RGB{Float64}(0.5,0.0,1.0)"
      ]
     },
     "metadata": {},
     "output_type": "display_data"
    },
    {
     "data": {
      "text/html": [
       "<div style=\"width:100px; height:100px; image-rendering: pixelated;\">\n",
       "    <img src=\"data:image/gif;base64,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\" \n",
       "         width=\"100\" height=\"100\"\n",
       "         style=\"image-rendering: pixelated;\">\n",
       "</div>\n"
      ]
     },
     "metadata": {},
     "output_type": "display_data"
    },
    {
     "data": {
      "image/png": "[encoded data removed]",
      "text/html": [
       "<img src=\"data:image/png;base64,iVBORw0KGgoAAAANSUhEUgAAAIcAAACHCAIAAACzhd1dAAAAAXNSR0IArs4c6QAAAARnQU1BAACxjwv8YQUAAAAgY0hSTQAAeiYAAICEAAD6AAAAgOgAAHUwAADqYAAAOpgAABdwnLpRPAAAAeVJREFUeAHtwbFtxAAMBMElsH2/VDndAhUYuOBmZPlgln+y3C3D3ct/+fHBcCeVRyqPVB6pPFJ5pPJI5ZHKI5VHKo9UHqk8Unmk8rjD3csHD58MZ8Ny9+NuZzib33K3w5lUHqk8Unmk8kjlkcojlUcqj1QeqTxSeaTySOWRyuPscjfc7TOczSxny3A2LP9jZzib5U4qj1QeqTxSeaTySOWRyiOVRyqPVB6pPFJ5pPJI5XFnuFs+GP7LcrcMZ8MH+3K3w51UHqk8Unmk8kjlkcojlUcqj1QeqTxSeaTySOWRyiMPH7zczS53w907y9mzw9nywfssZw8fSOWRyiOVRyqPVB6pPFJ5pPJI5ZHKI5VHKo9UHqk88sU8y93D3cP/Wc6G4Wyf4ezHB1J5pPJI5ZHKI5VHKo9UHqk8Unmk8kjlkcojlUcqj/y4299wNrOc/XY4e2c5W4a74YPl7p3lTCqPVB6pPFJ5pPJI5ZHKI5VHKo9UHqk8Unmk8kjlkeGDhw92OJtZ7nY4e/hiuduXfyKVRyqPVB6pPFJ5pPJI5ZHKI5VHKo9UHqk8Unmk8viynP2e4e5ZzvYZzoblbN/h7H2WD4az3w5nUnmk8kjlkcojlUcqj1QeqTxSeaTySOWRyiOVRyrPH63QR6J09mmmAAAAAElFTkSuQmCC\">"
      ],
      "text/plain": [
       "45×45 Array{RGB{Float64},2} with eltype RGB{Float64}:\n",
       " RGB{Float64}(0.0,1.0,0.0)  …  RGB{Float64}(1.0,0.0,0.0)\n",
       " RGB{Float64}(0.0,1.0,0.0)     RGB{Float64}(1.0,0.0,0.0)\n",
       " RGB{Float64}(0.0,1.0,0.0)     RGB{Float64}(1.0,0.0,0.0)\n",
       " RGB{Float64}(0.0,1.0,0.0)     RGB{Float64}(1.0,0.0,0.0)\n",
       " RGB{Float64}(0.0,1.0,0.0)     RGB{Float64}(1.0,0.0,0.0)\n",
       " RGB{Float64}(1.0,0.0,0.0)  …  RGB{Float64}(0.0,1.0,0.0)\n",
       " RGB{Float64}(1.0,0.0,0.0)     RGB{Float64}(0.0,1.0,0.0)\n",
       " RGB{Float64}(1.0,0.0,0.0)     RGB{Float64}(0.0,1.0,0.0)\n",
       " RGB{Float64}(1.0,0.0,0.0)     RGB{Float64}(0.0,1.0,0.0)\n",
       " RGB{Float64}(1.0,0.0,0.0)     RGB{Float64}(0.0,1.0,0.0)\n",
       " ⋮                          ⋱  \n",
       " RGB{Float64}(1.0,0.0,0.0)     RGB{Float64}(0.5,0.0,1.0)\n",
       " RGB{Float64}(1.0,0.0,0.0)     RGB{Float64}(0.5,0.0,1.0)\n",
       " RGB{Float64}(1.0,0.0,0.0)     RGB{Float64}(0.5,0.0,1.0)\n",
       " RGB{Float64}(1.0,0.0,0.0)     RGB{Float64}(0.5,0.0,1.0)\n",
       " RGB{Float64}(0.5,0.0,1.0)  …  RGB{Float64}(1.0,1.0,0.0)\n",
       " RGB{Float64}(0.5,0.0,1.0)     RGB{Float64}(1.0,1.0,0.0)\n",
       " RGB{Float64}(0.5,0.0,1.0)     RGB{Float64}(1.0,1.0,0.0)\n",
       " RGB{Float64}(0.5,0.0,1.0)     RGB{Float64}(1.0,1.0,0.0)\n",
       " RGB{Float64}(0.5,0.0,1.0)     RGB{Float64}(1.0,1.0,0.0)"
      ]
     },
     "metadata": {},
     "output_type": "display_data"
    },
    {
     "data": {
      "image/png": "[encoded data removed]",
      "text/html": [
       "<img src=\"data:image/png;base64,iVBORw0KGgoAAAANSUhEUgAAAIcAAACHCAIAAACzhd1dAAAAAXNSR0IArs4c6QAAAARnQU1BAACxjwv8YQUAAAAgY0hSTQAAeiYAAICEAAD6AAAAgOgAAHUwAADqYAAAOpgAABdwnLpRPAAAAeVJREFUeAHtwbFtxAAMBMElsH2/VDndAhUYuOBmZPlgln+y3C3D3ct/+fHBcCeVRyqPVB6pPFJ5pPJI5ZHKI5VHKo9UHqk8Unmk8rjD3csHD58MZ8Ny9+NuZzib33K3w5lUHqk8Unmk8kjlkcojlUcqj1QeqTxSeaTySOWRyuPscjfc7TOczSxny3A2LP9jZzib5U4qj1QeqTxSeaTySOWRyiOVRyqPVB6pPFJ5pPJI5XFnuFs+GP7LcrcMZ8MH+3K3w51UHqk8Unmk8kjlkcojlUcqj1QeqTxSeaTySOWRyiMPH7zczS53w907y9mzw9nywfssZw8fSOWRyiOVRyqPVB6pPFJ5pPJI5ZHKI5VHKo9UHqk88sU8y93D3cP/Wc6G4Wyf4ezHB1J5pPJI5ZHKI5VHKo9UHqk8Unmk8kjlkcojlUcqj/y4299wNrOc/XY4e2c5W4a74YPl7p3lTCqPVB6pPFJ5pPJI5ZHKI5VHKo9UHqk8Unmk8kjlkeGDhw92OJtZ7nY4e/hiuduXfyKVRyqPVB6pPFJ5pPJI5ZHKI5VHKo9UHqk8Unmk8viynP2e4e5ZzvYZzoblbN/h7H2WD4az3w5nUnmk8kjlkcojlUcqj1QeqTxSeaTySOWRyiOVRyrPH63QR6J09mmmAAAAAElFTkSuQmCC\">"
      ],
      "text/plain": [
       "45×45 Array{RGB{Float64},2} with eltype RGB{Float64}:\n",
       " RGB{Float64}(0.0,1.0,0.0)  …  RGB{Float64}(1.0,0.0,0.0)\n",
       " RGB{Float64}(0.0,1.0,0.0)     RGB{Float64}(1.0,0.0,0.0)\n",
       " RGB{Float64}(0.0,1.0,0.0)     RGB{Float64}(1.0,0.0,0.0)\n",
       " RGB{Float64}(0.0,1.0,0.0)     RGB{Float64}(1.0,0.0,0.0)\n",
       " RGB{Float64}(0.0,1.0,0.0)     RGB{Float64}(1.0,0.0,0.0)\n",
       " RGB{Float64}(1.0,0.0,0.0)  …  RGB{Float64}(0.0,1.0,0.0)\n",
       " RGB{Float64}(1.0,0.0,0.0)     RGB{Float64}(0.0,1.0,0.0)\n",
       " RGB{Float64}(1.0,0.0,0.0)     RGB{Float64}(0.0,1.0,0.0)\n",
       " RGB{Float64}(1.0,0.0,0.0)     RGB{Float64}(0.0,1.0,0.0)\n",
       " RGB{Float64}(1.0,0.0,0.0)     RGB{Float64}(0.0,1.0,0.0)\n",
       " ⋮                          ⋱  \n",
       " RGB{Float64}(1.0,0.0,0.0)     RGB{Float64}(0.5,0.0,1.0)\n",
       " RGB{Float64}(1.0,0.0,0.0)     RGB{Float64}(0.5,0.0,1.0)\n",
       " RGB{Float64}(1.0,0.0,0.0)     RGB{Float64}(0.5,0.0,1.0)\n",
       " RGB{Float64}(1.0,0.0,0.0)     RGB{Float64}(0.5,0.0,1.0)\n",
       " RGB{Float64}(0.5,0.0,1.0)  …  RGB{Float64}(1.0,1.0,0.0)\n",
       " RGB{Float64}(0.5,0.0,1.0)     RGB{Float64}(1.0,1.0,0.0)\n",
       " RGB{Float64}(0.5,0.0,1.0)     RGB{Float64}(1.0,1.0,0.0)\n",
       " RGB{Float64}(0.5,0.0,1.0)     RGB{Float64}(1.0,1.0,0.0)\n",
       " RGB{Float64}(0.5,0.0,1.0)     RGB{Float64}(1.0,1.0,0.0)"
      ]
     },
     "metadata": {},
     "output_type": "display_data"
    },
    {
     "data": {
      "text/html": [
       "<div style=\"width:90px; height:90px; image-rendering: pixelated;\">\n",
       "    <img src=\"data:image/gif;base64,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\" \n",
       "         width=\"90\" height=\"90\"\n",
       "         style=\"image-rendering: pixelated;\">\n",
       "</div>\n"
      ]
     },
     "metadata": {},
     "output_type": "display_data"
    },
    {
     "data": {
      "image/png": "[encoded data removed]",
      "text/html": [
       "<img src=\"data:image/png;base64,iVBORw0KGgoAAAANSUhEUgAAAIcAAACHCAIAAACzhd1dAAAAAXNSR0IArs4c6QAAAARnQU1BAACxjwv8YQUAAAAgY0hSTQAAeiYAAICEAAD6AAAAgOgAAHUwAADqYAAAOpgAABdwnLpRPAAAAeNJREFUeAHtwcGNJEEMBLEQEH5PneU6F9SPBfKRpLDc7XD2Zjl7O5y9Wc4eXyx3+2+4e9xJ5ZHKI5VHKo9UHqk8Unmk8kjlkcojlUcqj1QeqTzyxZvl7PHBm+Xsx3D244OZ5Wx2ufsNZ1J5pPJI5ZHKI5VHKo9UHqk8Unmk8kjlkcojlUcqj7vD2fDBm+XsLXc/PhiWD4YPlg+WM6k8Unmk8kjlkcojlUcqj1QeqTxSeaTySOWRyiOVx5nl7PF3hrOZ5ezxyXL2lrv9N5xJ5ZHKI5VHKo9UHqk8Unmk8kjlkcojlUcqj1QeqTyyw9njg/3H3eOL5e4x3M3yN+a3nEnlkcojlUcqj1QeqTxSeaTySOWRyiOVRyqPVB6pPC5/Zd5y9h53vzec/XvL3/gx3P3jTiqPVB6pPFJ5pPJI5ZHKI5VHKo9UHqk8Unmk8kjlcfjgzXK2DHePD37cvR93O8PfmLecSeWRyiOVRyqPVB6pPFJ5pPJI5ZHKI5VHKo9UHqk88sXb4ezxwf7jbvhkOJtdzt7wR6TySOWRyiOVRyqPVB6pPFJ5pPJI5ZHKI5VHKo9UHmFJ8BvuZjnbN9z9hrvHB285k8ojlUcqj1QeqTxSeaTySOWRyiOVRyqPVB6pPFJ5/gObPEYZVMvo8wAAAABJRU5ErkJg\">"
      ],
      "text/plain": [
       "45×45 Array{RGB{Float64},2} with eltype RGB{Float64}:\n",
       " RGB{Float64}(0.0,0.0,1.0)  …  RGB{Float64}(1.0,0.0,0.0)\n",
       " RGB{Float64}(0.0,0.0,1.0)     RGB{Float64}(1.0,0.0,0.0)\n",
       " RGB{Float64}(0.0,0.0,1.0)     RGB{Float64}(1.0,0.0,0.0)\n",
       " RGB{Float64}(0.0,0.0,1.0)     RGB{Float64}(1.0,0.0,0.0)\n",
       " RGB{Float64}(0.0,0.0,1.0)     RGB{Float64}(1.0,0.0,0.0)\n",
       " RGB{Float64}(0.0,0.0,1.0)  …  RGB{Float64}(0.0,1.0,0.0)\n",
       " RGB{Float64}(0.0,0.0,1.0)     RGB{Float64}(0.0,1.0,0.0)\n",
       " RGB{Float64}(0.0,0.0,1.0)     RGB{Float64}(0.0,1.0,0.0)\n",
       " RGB{Float64}(0.0,0.0,1.0)     RGB{Float64}(0.0,1.0,0.0)\n",
       " RGB{Float64}(0.0,0.0,1.0)     RGB{Float64}(0.0,1.0,0.0)\n",
       " ⋮                          ⋱  \n",
       " RGB{Float64}(0.0,1.0,0.0)     RGB{Float64}(0.0,0.0,1.0)\n",
       " RGB{Float64}(0.0,1.0,0.0)     RGB{Float64}(0.0,0.0,1.0)\n",
       " RGB{Float64}(0.0,1.0,0.0)     RGB{Float64}(0.0,0.0,1.0)\n",
       " RGB{Float64}(0.0,1.0,0.0)     RGB{Float64}(0.0,0.0,1.0)\n",
       " RGB{Float64}(0.0,1.0,1.0)  …  RGB{Float64}(0.5,0.0,1.0)\n",
       " RGB{Float64}(0.0,1.0,1.0)     RGB{Float64}(0.5,0.0,1.0)\n",
       " RGB{Float64}(0.0,1.0,1.0)     RGB{Float64}(0.5,0.0,1.0)\n",
       " RGB{Float64}(0.0,1.0,1.0)     RGB{Float64}(0.5,0.0,1.0)\n",
       " RGB{Float64}(0.0,1.0,1.0)     RGB{Float64}(0.5,0.0,1.0)"
      ]
     },
     "metadata": {},
     "output_type": "display_data"
    },
    {
     "data": {
      "image/png": "[encoded data removed]",
      "text/html": [
       "<img src=\"data:image/png;base64,iVBORw0KGgoAAAANSUhEUgAAAIcAAACHCAIAAACzhd1dAAAAAXNSR0IArs4c6QAAAARnQU1BAACxjwv8YQUAAAAgY0hSTQAAeiYAAICEAAD6AAAAgOgAAHUwAADqYAAAOpgAABdwnLpRPAAAAeNJREFUeAHtwcGNJEEMBLEQEH5PneU6F9SPBfKRpLDc7XD2Zjl7O5y9Wc4eXyx3+2+4e9xJ5ZHKI5VHKo9UHqk8Unmk8kjlkcojlUcqj1QeqTzyxZvl7PHBm+Xsx3D244OZ5Wx2ufsNZ1J5pPJI5ZHKI5VHKo9UHqk8Unmk8kjlkcojlUcqj7vD2fDBm+XsLXc/PhiWD4YPlg+WM6k8Unmk8kjlkcojlUcqj1QeqTxSeaTySOWRyiOVx5nl7PF3hrOZ5ezxyXL2lrv9N5xJ5ZHKI5VHKo9UHqk8Unmk8kjlkcojlUcqj1QeqTyyw9njg/3H3eOL5e4x3M3yN+a3nEnlkcojlUcqj1QeqTxSeaTySOWRyiOVRyqPVB6pPC5/Zd5y9h53vzec/XvL3/gx3P3jTiqPVB6pPFJ5pPJI5ZHKI5VHKo9UHqk8Unmk8kjlcfjgzXK2DHePD37cvR93O8PfmLecSeWRyiOVRyqPVB6pPFJ5pPJI5ZHKI5VHKo9UHqk88sXb4ezxwf7jbvhkOJtdzt7wR6TySOWRyiOVRyqPVB6pPFJ5pPJI5ZHKI5VHKo9UHmFJ8BvuZjnbN9z9hrvHB285k8ojlUcqj1QeqTxSeaTySOWRyiOVRyqPVB6pPFJ5/gObPEYZVMvo8wAAAABJRU5ErkJg\">"
      ],
      "text/plain": [
       "45×45 Array{RGB{Float64},2} with eltype RGB{Float64}:\n",
       " RGB{Float64}(0.0,0.0,1.0)  …  RGB{Float64}(1.0,0.0,0.0)\n",
       " RGB{Float64}(0.0,0.0,1.0)     RGB{Float64}(1.0,0.0,0.0)\n",
       " RGB{Float64}(0.0,0.0,1.0)     RGB{Float64}(1.0,0.0,0.0)\n",
       " RGB{Float64}(0.0,0.0,1.0)     RGB{Float64}(1.0,0.0,0.0)\n",
       " RGB{Float64}(0.0,0.0,1.0)     RGB{Float64}(1.0,0.0,0.0)\n",
       " RGB{Float64}(0.0,0.0,1.0)  …  RGB{Float64}(0.0,1.0,0.0)\n",
       " RGB{Float64}(0.0,0.0,1.0)     RGB{Float64}(0.0,1.0,0.0)\n",
       " RGB{Float64}(0.0,0.0,1.0)     RGB{Float64}(0.0,1.0,0.0)\n",
       " RGB{Float64}(0.0,0.0,1.0)     RGB{Float64}(0.0,1.0,0.0)\n",
       " RGB{Float64}(0.0,0.0,1.0)     RGB{Float64}(0.0,1.0,0.0)\n",
       " ⋮                          ⋱  \n",
       " RGB{Float64}(0.0,1.0,0.0)     RGB{Float64}(0.0,0.0,1.0)\n",
       " RGB{Float64}(0.0,1.0,0.0)     RGB{Float64}(0.0,0.0,1.0)\n",
       " RGB{Float64}(0.0,1.0,0.0)     RGB{Float64}(0.0,0.0,1.0)\n",
       " RGB{Float64}(0.0,1.0,0.0)     RGB{Float64}(0.0,0.0,1.0)\n",
       " RGB{Float64}(0.0,1.0,1.0)  …  RGB{Float64}(0.5,0.0,1.0)\n",
       " RGB{Float64}(0.0,1.0,1.0)     RGB{Float64}(0.5,0.0,1.0)\n",
       " RGB{Float64}(0.0,1.0,1.0)     RGB{Float64}(0.5,0.0,1.0)\n",
       " RGB{Float64}(0.0,1.0,1.0)     RGB{Float64}(0.5,0.0,1.0)\n",
       " RGB{Float64}(0.0,1.0,1.0)     RGB{Float64}(0.5,0.0,1.0)"
      ]
     },
     "metadata": {},
     "output_type": "display_data"
    },
    {
     "data": {
      "text/html": [
       "<div style=\"width:90px; height:90px; image-rendering: pixelated;\">\n",
       "    <img src=\"data:image/gif;base64,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\" \n",
       "         width=\"90\" height=\"90\"\n",
       "         style=\"image-rendering: pixelated;\">\n",
       "</div>\n"
      ]
     },
     "metadata": {},
     "output_type": "display_data"
    },
    {
     "data": {
      "text/plain": [
       "Dict{Any, Any} with 8 entries:\n",
       "  ((5, 5), false)   => [11.9583, 10.9545, 8.48528, 6.63325, 5.2915, 2.82843, 2.…\n",
       "  ((9, 9), true)    => [48.0, 35.0, 19.0, 18.0, 12.0, 10.0, 5.0, 4.0, 3.0, 1.0,…\n",
       "  ((9, 9), false)   => [19.8997, 14.0357, 8.94427, 8.544, 6.245, 4.79583, 4.123…\n",
       "  ((3, 3), true)    => [3.0, 2.0, 1.0, 0.0]\n",
       "  ((3, 3), false)   => [6.16441, 2.23607, 1.41421, 1.0, 0.0]\n",
       "  ((21, 21), true)  => [248.0, 149.0, 84.0, 47.0, 31.0, 29.0, 27.0, 22.0, 19.0,…\n",
       "  ((21, 21), false) => [44.8107, 33.2415, 24.4131, 19.1833, 14.3178, 13.5647, 1…\n",
       "  ((5, 5), true)    => [12.0, 6.0, 3.0, 2.0, 0.0]"
      ]
     },
     "metadata": {},
     "output_type": "display_data"
    }
   ],
   "source": [
    "using Random\n",
    "using Images\n",
    "using FileIO\n",
    "using Base64\n",
    "using Statistics\n",
    "\n",
    "# Палитра цветов радуги\n",
    "function get_rainbow_palette()\n",
    "    return [\n",
    "        RGB(1.0, 0.0, 0.0),  # красный\n",
    "        RGB(1.0, 0.5, 0.0),  # оранжевый\n",
    "        RGB(1.0, 1.0, 0.0),  # желтый\n",
    "        RGB(0.0, 1.0, 0.0),  # зеленый\n",
    "        RGB(0.0, 1.0, 1.0),  # голубой\n",
    "        RGB(0.0, 0.0, 1.0),  # синий\n",
    "        RGB(0.5, 0.0, 1.0)   # фиолетовый\n",
    "    ]\n",
    "end\n",
    "\n",
    "# Преобразование матрицы в изображение\n",
    "function matrix_to_image(matrix, palette; pixel_size=30)\n",
    "    h, w = size(matrix)\n",
    "    img = Array{RGB{Float64}}(undef, h*pixel_size, w*pixel_size)\n",
    "    for i in 1:h, j in 1:w,\n",
    "        ii in ((i-1)*pixel_size+1):i*pixel_size,\n",
    "        jj in ((j-1)*pixel_size+1):j*pixel_size\n",
    "        \n",
    "        idx = clamp(matrix[i, j], 1, length(palette))\n",
    "        img[ii, jj] = palette[idx]\n",
    "    end\n",
    "    return img\n",
    "end\n",
    "\n",
    "# Бинарное представление\n",
    "function matrix_to_binary(matrix, bits_per_element=3)\n",
    "    binary_vec = Bool[]\n",
    "    for elem in matrix\n",
    "        val = elem - 1\n",
    "        for i in (bits_per_element-1):-1:0\n",
    "            push!(binary_vec, val & (1 << i) != 0)\n",
    "        end\n",
    "    end\n",
    "    return binary_vec\n",
    "end\n",
    "\n",
    "# Обратное преобразование\n",
    "function binary_to_matrix(binary_vec, bits_per_element, matrix_size)\n",
    "    matrix = zeros(Int, matrix_size)\n",
    "    for i in 1:prod(matrix_size)\n",
    "        bits = binary_vec[(i-1)*bits_per_element+1:i*bits_per_element]\n",
    "        val = sum(bits .* [4, 2, 1])\n",
    "        matrix[i] = clamp(val + 1, 1, 7)\n",
    "    end\n",
    "    return matrix\n",
    "end\n",
    "\n",
    "# Генетические операторы\n",
    "function crossover(a, b)\n",
    "    child = similar(a)\n",
    "    for i in eachindex(a)\n",
    "        child[i] = rand() < 0.5 ? a[i] : b[i]\n",
    "    end\n",
    "    return child\n",
    "end\n",
    "\n",
    "function mutate(binary_vec, mutation_rate=0.01)\n",
    "    mutated = copy(binary_vec)\n",
    "    for i in eachindex(mutated)\n",
    "        rand() < mutation_rate && (mutated[i] = !mutated[i])\n",
    "    end\n",
    "    return mutated\n",
    "end\n",
    "\n",
    "# Функция расстояния\n",
    "function calculate_distance(a, b, use_hamming)\n",
    "    if use_hamming\n",
    "        return sum(a .!= b)\n",
    "    else\n",
    "        return sqrt(sum((a .- b).^2))\n",
    "    end\n",
    "end\n",
    "\n",
    "# Отображение GIF\n",
    "function show_gif(frames, fps=5; display_size=400)\n",
    "    gif = cat(frames..., dims=3)\n",
    "    temp_file = tempname() * \".gif\"\n",
    "    save(temp_file, gif, fps=fps)\n",
    "    \n",
    "    w, h = size(frames[1])\n",
    "    aspect_ratio = w/h\n",
    "    display_width = display_size\n",
    "    display_height = round(Int, display_size / aspect_ratio)\n",
    "    \n",
    "    display(\"text/html\", \"\"\"\n",
    "    <div style=\"width:$(display_width)px; height:$(display_height)px; image-rendering: pixelated;\">\n",
    "        <img src=\"data:image/gif;base64,$(base64encode(open(read, temp_file)))\" \n",
    "             width=\"$(display_width)\" height=\"$(display_height)\"\n",
    "             style=\"image-rendering: pixelated;\">\n",
    "    </div>\n",
    "    \"\"\")\n",
    "end\n",
    "\n",
    "# Эксперимент для одного случая\n",
    "function run_experiment(matrix_size, use_hamming; \n",
    "                       max_generations=500, mutation_rate=0.02, pixel_size=20)\n",
    "    palette = get_rainbow_palette()\n",
    "    bits_per_element = 3\n",
    "    \n",
    "    # Генерация матриц\n",
    "    reference = rand(1:7, matrix_size)\n",
    "    current = rand(1:7, matrix_size)\n",
    "    \n",
    "    # Подготовка данных\n",
    "    frames = [matrix_to_image(current, palette; pixel_size)]\n",
    "    distances = Float64[]\n",
    "    \n",
    "    # Основной цикл\n",
    "    generation = 0\n",
    "    while generation < max_generations\n",
    "        child_bin = mutate(crossover(matrix_to_binary(current), matrix_to_binary(reference)), mutation_rate)\n",
    "        child = binary_to_matrix(child_bin, bits_per_element, matrix_size)\n",
    "        \n",
    "        dist = calculate_distance(current, reference, use_hamming)\n",
    "        new_dist = calculate_distance(child, reference, use_hamming)\n",
    "        \n",
    "        if new_dist < dist\n",
    "            current = child\n",
    "            push!(frames, matrix_to_image(current, palette; pixel_size))\n",
    "            push!(distances, new_dist)\n",
    "        end\n",
    "        \n",
    "        generation += 1\n",
    "        (new_dist == 0) && break  # Полное совпадение\n",
    "    end\n",
    "    \n",
    "    # Визуализация\n",
    "    println(\"\\nРазмер матрицы: $matrix_size, расстояние: $(use_hamming ? \"Хэмминга\" : \"Евклидово\")\")\n",
    "    println(\"Потребовалось поколений: $(length(distances))\")\n",
    "    \n",
    "    # Отображаем только если матрица не слишком большая\n",
    "    if prod(matrix_size) <= 81  # 9x9\n",
    "        println(\"\\nЭталонное изображение:\")\n",
    "        display(matrix_to_image(reference, palette; pixel_size))\n",
    "        \n",
    "        println(\"\\nФинальный результат:\")\n",
    "        display(matrix_to_image(current, palette; pixel_size))\n",
    "        \n",
    "        println(\"\\nПроцесс эволюции:\")\n",
    "        show_gif(frames, 5; display_size=min(600, pixel_size * maximum(matrix_size) * 2))\n",
    "    end\n",
    "    \n",
    "    return distances\n",
    "end\n",
    "\n",
    "# Запуск всех экспериментов\n",
    "function run_all_experiments()\n",
    "    matrix_sizes = [(3,3), (5,5), (9,9), (21,21)]\n",
    "    distance_types = [true, false]  # true - Хэмминга, false - Евклидово\n",
    "    \n",
    "    results = Dict()\n",
    "    \n",
    "    for size in matrix_sizes, use_hamming in distance_types\n",
    "        println(\"\\n\" * \"=\"^50)\n",
    "        println(\"ЗАПУСК ЭКСПЕРИМЕНТА: размер $size, расстояние $(use_hamming ? \"Хэмминга\" : \"Евклидово\")\")\n",
    "        \n",
    "        distances = run_experiment(size, use_hamming, \n",
    "                                 max_generations=1000,\n",
    "                                 mutation_rate=0.01,\n",
    "                                 pixel_size=max(5, 50 ÷ maximum(size)))\n",
    "        \n",
    "        results[(size, use_hamming)] = distances\n",
    "    end\n",
    "    \n",
    "    return results\n",
    "end\n",
    "\n",
    "# Запускаем все эксперименты\n",
    "results = run_all_experiments()"
   ]
  }
 ],
 "metadata": {
  "kernelspec": {
   "display_name": "Julia 1.10.5",
   "language": "julia",
   "name": "julia-1.10"
  },
  "language_info": {
   "file_extension": ".jl",
   "mimetype": "application/julia",
   "name": "julia",
   "version": "1.10.5"
  }
 },
 "nbformat": 4,
 "nbformat_minor": 2
}
