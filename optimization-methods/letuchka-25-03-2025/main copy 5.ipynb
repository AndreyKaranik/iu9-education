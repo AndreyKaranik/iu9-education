{
 "cells": [
  {
   "cell_type": "code",
   "execution_count": null,
   "metadata": {},
   "outputs": [
    {
     "name": "stderr",
     "output_type": "stream",
     "text": [
      "┌ Warning: Failed to load integration with PlotlyBase & PlotlyKaleido.\n",
      "│   exception = (ArgumentError(\"Package PlotlyBase not found in current path.\\n- Run `import Pkg; Pkg.add(\\\"PlotlyBase\\\")` to install the PlotlyBase package.\"), Union{Ptr{Nothing}, Base.InterpreterIP}[Ptr{Nothing} @0x00007ffa9cc8bdd3, Ptr{Nothing} @0x00007ffa9df735d4, Ptr{Nothing} @0x00007ffae2f1913d, Ptr{Nothing} @0x00007ffa9d4bf156, Ptr{Nothing} @0x00007ffa9d4bf1b4, Ptr{Nothing} @0x00007ffae2f459c7, Ptr{Nothing} @0x00007ffae2f4780b, Ptr{Nothing} @0x00007ffae2f29c5d, Ptr{Nothing} @0x00007ffae2f2a4fe, Base.InterpreterIP in top-level CodeInfo for Main at statement 0, Ptr{Nothing} @0x00007ffae2f468fc, Ptr{Nothing} @0x00007ffae2f482ff, Ptr{Nothing} @0x000001a5f2414353, Ptr{Nothing} @0x000001a5f24147fb, Ptr{Nothing} @0x000001a5f24148a4, Ptr{Nothing} @0x00007ffae2f28f8a, Ptr{Nothing} @0x00007ffae2f28aac, Ptr{Nothing} @0x00007ffae2f296a8, Ptr{Nothing} @0x00007ffae2f2a4fe, Base.InterpreterIP in top-level CodeInfo for Main at statement 0, Ptr{Nothing} @0x00007ffae2f468fc, Ptr{Nothing} @0x00007ffae2f4724c, Ptr{Nothing} @0x00007ffae2f482ff, Ptr{Nothing} @0x000001a5b6a866e0, Ptr{Nothing} @0x00007ffae2f18fea, Ptr{Nothing} @0x000001a5b6a856df, Ptr{Nothing} @0x000001a5b6a85fe7, Ptr{Nothing} @0x000001a5b6a8634c, Ptr{Nothing} @0x000001a5b6a8639f, Ptr{Nothing} @0x000001a5b6a79a6e, Ptr{Nothing} @0x000001a5b6a5ac1f, Ptr{Nothing} @0x000001a5b6a5ad6e, Ptr{Nothing} @0x000001a5b6a5adb7, Ptr{Nothing} @0x000001a5b6a5178e, Ptr{Nothing} @0x00007ffae2f46ca0, Ptr{Nothing} @0x00007ffae2f4724c, Ptr{Nothing} @0x00007ffae2f482ff, Ptr{Nothing} @0x00007ffa9cc6c551, Ptr{Nothing} @0x00007ffa9d14de7a, Ptr{Nothing} @0x00007ffa9de564a1, Ptr{Nothing} @0x00007ffa9de564d4, Ptr{Nothing} @0x00007ffa9c1422c7, Ptr{Nothing} @0x00007ffa9d8cd7e3, Ptr{Nothing} @0x00007ffa9cab252c, Ptr{Nothing} @0x00007ffae2f7bdc9, Ptr{Nothing} @0x00007ffae2f7c898, Ptr{Nothing} @0x00007ff60f931b71, Ptr{Nothing} @0x00007ffb2e40e8d6, Ptr{Nothing} @0x00007ffb3053bf2b])\n",
      "└ @ Plots C:\\Users\\Golum\\.julia\\packages\\Plots\\kLeqV\\src\\backends.jl:577\n"
     ]
    }
   ],
   "source": [
    "using Plots\n",
    "\n",
    "function region_condition(x1, x2)\n",
    "    return -x1 + x2 >= -1 && x1 - 2 * x2 <= 1 && x1 >= 0 && x2 >= 0\n",
    "end\n",
    "\n",
    "x1_vals = LinRange(0, 3, 100)\n",
    "x2_vals = LinRange(0, 3, 100)\n",
    "\n",
    "valid_x1 = Float64[]\n",
    "valid_x2 = Float64[]\n",
    "valid_z = Float64[]\n",
    "\n",
    "for x1 in x1_vals\n",
    "    for x2 in x2_vals\n",
    "        if region_condition(x1, x2)\n",
    "            push!(valid_x1, x1)\n",
    "            push!(valid_x2, x2)\n",
    "            push!(valid_z, 1)\n",
    "        end\n",
    "    end\n",
    "end\n",
    "\n",
    "p = scatter3d(valid_x1, valid_x2, valid_z, label=\"Valid Region\", color=:green, alpha=0.5, markersize=2, size=(800, 600))\n",
    "\n",
    "plot!(p, x1_vals, x1_vals .- 1, 1 .* ones(length(x1_vals)), label=\"-x1 + x2 = -1\", color=:blue, linewidth=2)\n",
    "plot!(p, x1_vals, (x1_vals .- 1) ./ 2, 1 .* ones(length(x1_vals)), label=\"x1 - 2x2 = 1\", color=:red, linewidth=2)\n",
    "\n",
    "plane_x1 = Float64[]\n",
    "plane_x2 = Float64[]\n",
    "plane_z = Float64[]\n",
    "\n",
    "for x1 in x1_vals\n",
    "    for x2 in x2_vals\n",
    "        z = -x1 - 2 * x2\n",
    "        if z > -5\n",
    "            push!(plane_x1, x1)\n",
    "            push!(plane_x2, x2)\n",
    "            push!(plane_z, z)\n",
    "        end\n",
    "    end\n",
    "end\n",
    "\n",
    "scatter3d!(p, plane_x1, plane_x2, plane_z, color=:purple, alpha=0.5, markersize=1, label=false)\n",
    "\n",
    "display(p)"
   ]
  }
 ],
 "metadata": {
  "kernelspec": {
   "display_name": "Julia 1.10.5",
   "language": "julia",
   "name": "julia-1.10"
  },
  "language_info": {
   "file_extension": ".jl",
   "mimetype": "application/julia",
   "name": "julia",
   "version": "1.10.5"
  }
 },
 "nbformat": 4,
 "nbformat_minor": 2
}
