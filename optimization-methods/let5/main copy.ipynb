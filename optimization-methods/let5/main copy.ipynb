{
 "cells": [
  {
   "cell_type": "code",
   "execution_count": 10,
   "metadata": {},
   "outputs": [
    {
     "name": "stdout",
     "output_type": "stream",
     "text": [
      "Лучшее найденное решение: x = 10, f(x) = 2631.666666666667\n"
     ]
    }
   ],
   "source": [
    "using Random\n",
    "\n",
    "# Определяем функцию приспособленности\n",
    "function fitness(x)\n",
    "    return 5 - 24x + 17x^2 - (4/3)x^3 + (1/4)x^4\n",
    "end\n",
    "\n",
    "# Генерация случайной начальной популяции\n",
    "function generate_population(size, bit_length)\n",
    "    return [rand(0:(2^bit_length - 1)) for _ in 1:size]\n",
    "end\n",
    "\n",
    "# Двоичное представление\n",
    "function to_binary(x, bit_length)\n",
    "    return lpad(string(x, base=2), bit_length, '0')\n",
    "end\n",
    "\n",
    "# Кроссинговер\n",
    "function crossover(parent1, parent2, crossover_point)\n",
    "    bin1, bin2 = to_binary(parent1, 8), to_binary(parent2, 8)\n",
    "    child1 = parse(Int, bin1[1:crossover_point] * bin2[crossover_point+1:end], base=2)\n",
    "    child2 = parse(Int, bin2[1:crossover_point] * bin1[crossover_point+1:end], base=2)\n",
    "    return child1, child2\n",
    "end\n",
    "\n",
    "# Мутация\n",
    "function mutate(individual, mutation_rate, bit_length)\n",
    "    bin_repr = to_binary(individual, bit_length)\n",
    "    if rand() < mutation_rate\n",
    "        mutation_point = rand(1:bit_length)\n",
    "        new_bin = bin_repr[1:mutation_point-1] * (bin_repr[mutation_point] == '0' ? \"1\" : \"0\") * bin_repr[mutation_point+1:end]\n",
    "        return parse(Int, new_bin, base=2)\n",
    "    end\n",
    "    return individual\n",
    "end\n",
    "\n",
    "# Генетический алгоритм\n",
    "function genetic_algorithm(iterations, pop_size, bit_length, mutation_rate)\n",
    "    population = generate_population(pop_size, bit_length)\n",
    "    for _ in 1:iterations\n",
    "        sorted_population = sort(population, by=fitness)\n",
    "        new_population = []\n",
    "        for i in 1:2:(pop_size-1)\n",
    "            p1, p2 = sorted_population[rand(1:pop_size)], sorted_population[rand(1:pop_size)]\n",
    "            child1, child2 = crossover(p1, p2, rand(1:bit_length-1))\n",
    "            push!(new_population, mutate(child1, mutation_rate, bit_length))\n",
    "            push!(new_population, mutate(child2, mutation_rate, bit_length))\n",
    "        end\n",
    "        population = new_population\n",
    "    end\n",
    "    return sort(population, by=fitness)[1]\n",
    "end\n",
    "\n",
    "# Запуск алгоритма\n",
    "bit_length = 8\n",
    "best_solution = genetic_algorithm(50, 10, bit_length, 0.3)\n",
    "println(\"Лучшее найденное решение: x = $best_solution, f(x) = $(fitness(best_solution))\")"
   ]
  }
 ],
 "metadata": {
  "kernelspec": {
   "display_name": "Julia 1.10.5",
   "language": "julia",
   "name": "julia-1.10"
  },
  "language_info": {
   "file_extension": ".jl",
   "mimetype": "application/julia",
   "name": "julia",
   "version": "1.10.5"
  }
 },
 "nbformat": 4,
 "nbformat_minor": 2
}
