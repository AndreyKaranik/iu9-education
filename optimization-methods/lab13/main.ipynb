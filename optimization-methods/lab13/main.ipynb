{
 "cells": [
  {
   "cell_type": "code",
   "execution_count": null,
   "metadata": {},
   "outputs": [
    {
     "data": {
      "image/png": "[encoded data removed]",
      "text/html": [
       "<img src=\"data:image/png;base64,iVBORw0KGgoAAAANSUhEUgAAAJAAAACQCAIAAABoJHXvAAAAAXNSR0IArs4c6QAAAARnQU1BAACxjwv8YQUAAAAgY0hSTQAAeiYAAICEAAD6AAAAgOgAAHUwAADqYAAAOpgAABdwnLpRPAAAAT9JREFUeAHtwYEJACAAw7AK/f9lfcNBE+Hyk8vhJ4fLTyRTJFMkUyRTJFMkUyRTJFMkUyRTJFMkUyRTJFMkUyRTJFMkUyRTJFMkUyRTJFMkUyRTJFMkUyRTJFMkUyRTJFMkUyRTJFMkUyRTJFMkUyRTJFMkUyRTJFMkUyRTJFMkUyRTJFMkUyRTJFMkUyRTJFMkUyRTJFMkUyRTJFMkUyRTJFMkUyRTJFMkUyRTJFMkUyRTJFMkUyRTJFMkUyRTJFMkUyRTJFMkUyRTJFMkUyRTJFMkUyRTJFMkUyRTJFMkUyRTJFMkUyRTJFMkUyRTJFMkUyRTJFMkUyRTJFMkUyRTJFMkUyRTJFMkUyRTJFMkUyRTJFMkUyRTJFMkUyRTJFMkUyRTJFMkUyRTJFMkUyRTJFMkUyRTJFMkUyRTJFMeHQYFQCYGmz0AAAAASUVORK5C\">"
      ],
      "text/plain": [
       "48×48 Array{RGB{Float64},2} with eltype RGB{Float64}:\n",
       " RGB{Float64}(0.0,0.0,1.0)  …  RGB{Float64}(0.0,0.0,1.0)\n",
       " RGB{Float64}(0.0,0.0,1.0)     RGB{Float64}(0.0,0.0,1.0)\n",
       " RGB{Float64}(0.0,0.0,1.0)     RGB{Float64}(0.0,0.0,1.0)\n",
       " RGB{Float64}(0.0,0.0,1.0)     RGB{Float64}(0.0,0.0,1.0)\n",
       " RGB{Float64}(0.0,0.0,1.0)     RGB{Float64}(0.0,0.0,1.0)\n",
       " RGB{Float64}(0.0,0.0,1.0)  …  RGB{Float64}(0.0,0.0,1.0)\n",
       " RGB{Float64}(0.0,0.0,1.0)     RGB{Float64}(0.0,0.0,1.0)\n",
       " RGB{Float64}(0.0,0.0,1.0)     RGB{Float64}(0.0,0.0,1.0)\n",
       " RGB{Float64}(0.0,0.0,1.0)     RGB{Float64}(0.0,0.0,1.0)\n",
       " RGB{Float64}(0.0,0.0,1.0)     RGB{Float64}(0.0,0.0,1.0)\n",
       " ⋮                          ⋱  \n",
       " RGB{Float64}(0.0,0.0,1.0)     RGB{Float64}(0.0,0.0,1.0)\n",
       " RGB{Float64}(0.0,0.0,1.0)  …  RGB{Float64}(0.0,0.0,1.0)\n",
       " RGB{Float64}(0.0,0.0,1.0)     RGB{Float64}(0.0,0.0,1.0)\n",
       " RGB{Float64}(0.0,0.0,1.0)     RGB{Float64}(0.0,0.0,1.0)\n",
       " RGB{Float64}(0.0,0.0,1.0)     RGB{Float64}(0.0,0.0,1.0)\n",
       " RGB{Float64}(0.0,0.0,1.0)     RGB{Float64}(0.0,0.0,1.0)\n",
       " RGB{Float64}(0.0,0.0,1.0)  …  RGB{Float64}(0.0,0.0,1.0)\n",
       " RGB{Float64}(0.0,0.0,1.0)     RGB{Float64}(0.0,0.0,1.0)\n",
       " RGB{Float64}(0.0,0.0,1.0)     RGB{Float64}(0.0,0.0,1.0)"
      ]
     },
     "metadata": {},
     "output_type": "display_data"
    },
    {
     "data": {
      "image/png": "[encoded data removed]",
      "text/html": [
       "<img src=\"data:image/png;base64,iVBORw0KGgoAAAANSUhEUgAAAJAAAACQCAIAAABoJHXvAAAAAXNSR0IArs4c6QAAAARnQU1BAACxjwv8YQUAAAAgY0hSTQAAeiYAAICEAAD6AAAAgOgAAHUwAADqYAAAOpgAABdwnLpRPAAAAT5JREFUeAHtwUENwEAQxLA8AvyYtzR2pNjCxyWPWx63SKZIpkimSKZIpkimSKZIpkimSKZIpkimSKZIpkimSKZIpkimSKZIpkimSKZIpkimSKZIpkimSKZIpkimSKZIpkimSKZIpkimSKZIpkimSKZIpkimSKZIpkimSKZIpkimSKZIpkimSKZIpkimSKZIpkimSKZIpkimSKZIpkimSKZIpkimSKZIpkimSKZIpkimSKZIpkimSKZIpkimSKZIpkimSKZIpkimSKZIpkimSKZIpkimSKZIpkimSKZIpkimSKZIpkimSKZIpkimSKZIpkimSKZIpkimSKZIpkimSKZIpkimSKZIpkimSKZIpkimSKZIpkimSKZIpkimSKZIpkimSKZIpkimSKZIpkimSKZIpkimSKZIpkimSKZIpvxZyQRAsu6Q3QAAAABJRU5ErkJg\">"
      ],
      "text/plain": [
       "48×48 Array{RGB{Float64},2} with eltype RGB{Float64}:\n",
       " RGB{Float64}(0.0,0.0,1.0)  …  RGB{Float64}(0.0,0.0,1.0)\n",
       " RGB{Float64}(0.0,0.0,1.0)     RGB{Float64}(0.0,0.0,1.0)\n",
       " RGB{Float64}(0.0,0.0,1.0)     RGB{Float64}(0.0,0.0,1.0)\n",
       " RGB{Float64}(0.0,0.0,1.0)     RGB{Float64}(0.0,0.0,1.0)\n",
       " RGB{Float64}(0.0,0.0,1.0)     RGB{Float64}(0.0,0.0,1.0)\n",
       " RGB{Float64}(0.0,0.0,1.0)  …  RGB{Float64}(0.0,0.0,1.0)\n",
       " RGB{Float64}(0.0,0.0,1.0)     RGB{Float64}(0.0,0.0,1.0)\n",
       " RGB{Float64}(0.0,0.0,1.0)     RGB{Float64}(0.0,0.0,1.0)\n",
       " RGB{Float64}(0.0,0.0,1.0)     RGB{Float64}(0.0,0.0,1.0)\n",
       " RGB{Float64}(0.0,0.0,1.0)     RGB{Float64}(0.0,0.0,1.0)\n",
       " ⋮                          ⋱  \n",
       " RGB{Float64}(0.0,0.0,1.0)     RGB{Float64}(0.0,0.0,1.0)\n",
       " RGB{Float64}(0.0,0.0,1.0)  …  RGB{Float64}(0.0,0.0,1.0)\n",
       " RGB{Float64}(0.0,0.0,1.0)     RGB{Float64}(0.0,0.0,1.0)\n",
       " RGB{Float64}(0.0,0.0,1.0)     RGB{Float64}(0.0,0.0,1.0)\n",
       " RGB{Float64}(0.0,0.0,1.0)     RGB{Float64}(0.0,0.0,1.0)\n",
       " RGB{Float64}(0.0,0.0,1.0)     RGB{Float64}(0.0,0.0,1.0)\n",
       " RGB{Float64}(0.0,0.0,1.0)  …  RGB{Float64}(0.0,0.0,1.0)\n",
       " RGB{Float64}(0.0,0.0,1.0)     RGB{Float64}(0.0,0.0,1.0)\n",
       " RGB{Float64}(0.0,0.0,1.0)     RGB{Float64}(0.0,0.0,1.0)"
      ]
     },
     "metadata": {},
     "output_type": "display_data"
    },
    {
     "name": "stdout",
     "output_type": "stream",
     "text": [
      "\n",
      "==================================================\n",
      "ЗАПУСК ЭКСПЕРИМЕНТА: размер (3, 3), расстояние Хэмминга\n",
      "\n",
      "Размер матрицы: (3, 3), расстояние: Хэмминга\n",
      "Потребовалось поколений: 3\n",
      "\n",
      "Эталонное изображение:\n",
      "\n",
      "Финальный результат:\n",
      "\n",
      "Процесс эволюции:\n",
      "\n",
      "==================================================\n",
      "ЗАПУСК ЭКСПЕРИМЕНТА: размер (3, 3), расстояние Евклидово\n",
      "\n",
      "Размер матрицы: (3, 3), расстояние: Евклидово\n",
      "Потребовалось поколений: 9\n",
      "\n",
      "Эталонное изображение:\n",
      "\n",
      "Финальный результат:\n",
      "\n",
      "Процесс эволюции:\n",
      "\n",
      "==================================================\n",
      "ЗАПУСК ЭКСПЕРИМЕНТА: размер (5, 5), расстояние Хэмминга\n",
      "\n",
      "Размер матрицы: (5, 5), расстояние: Хэмминга\n",
      "Потребовалось поколений: 3\n",
      "\n",
      "Эталонное изображение:\n",
      "\n",
      "Финальный результат:\n",
      "\n",
      "Процесс эволюции:\n",
      "\n",
      "==================================================\n",
      "ЗАПУСК ЭКСПЕРИМЕНТА: размер (5, 5), расстояние Евклидово\n",
      "\n",
      "Размер матрицы: (5, 5), расстояние: Евклидово\n",
      "Потребовалось поколений: 16\n",
      "\n",
      "Эталонное изображение:\n",
      "\n",
      "Финальный результат:\n",
      "\n",
      "Процесс эволюции:\n",
      "\n",
      "==================================================\n",
      "ЗАПУСК ЭКСПЕРИМЕНТА: размер (9, 9), расстояние Хэмминга\n",
      "\n",
      "Размер матрицы: (9, 9), расстояние: Хэмминга\n",
      "Потребовалось поколений: 4\n",
      "\n",
      "Эталонное изображение:\n",
      "\n",
      "Финальный результат:\n",
      "\n",
      "Процесс эволюции:\n",
      "\n",
      "==================================================\n",
      "ЗАПУСК ЭКСПЕРИМЕНТА: размер (9, 9), расстояние Евклидово\n",
      "\n",
      "Размер матрицы: (9, 9), расстояние: Евклидово\n",
      "Потребовалось поколений: 43\n",
      "\n",
      "Эталонное изображение:\n",
      "\n",
      "Финальный результат:\n",
      "\n",
      "Процесс эволюции:\n",
      "\n",
      "==================================================\n",
      "ЗАПУСК ЭКСПЕРИМЕНТА: размер (21, 21), расстояние Хэмминга\n",
      "\n",
      "Размер матрицы: (21, 21), расстояние: Хэмминга\n",
      "Потребовалось поколений: 7\n",
      "\n",
      "Эталонное изображение:\n",
      "\n",
      "Финальный результат:\n",
      "\n",
      "Процесс эволюции:\n",
      "\n",
      "==================================================\n",
      "ЗАПУСК ЭКСПЕРИМЕНТА: размер (21, 21), расстояние Евклидово\n",
      "\n",
      "Размер матрицы: (21, 21), расстояние: Евклидово\n",
      "Потребовалось поколений: 42\n",
      "\n",
      "Эталонное изображение:\n",
      "\n",
      "Финальный результат:\n",
      "\n",
      "Процесс эволюции:\n"
     ]
    },
    {
     "data": {
      "text/html": [
       "<div style=\"width:96px; height:96px; image-rendering: pixelated;\">\n",
       "    <img src=\"data:image/gif;base64,R0lGODlhMAAwAPEAAAD/AAAA/4AA/wD//yH/C05FVFNDQVBFMi4wAwEAAAAh+QQAFAAAACH/C0ltYWdlTWFnaWNrDmdhbW1hPTAuNDU0NTQ1ACwAAAAAMAAwAAACpISPCcPtP5Sc1MDbqtYY7y91F0geIlSW55OSq9OCbxZvM1Pbd87tPHWL/CbBIdFnTBSTSuQnGIhKp9SA4IrNagXQqje6DWO736pYTC5Pz+G0GszWut9x+e1NrWfnav34jifld8VXNsgFGGg1WPh12Oj1mBgoOaMI5wdpxhh0U9m58gkqIjqKUWoKgZrqsMrK4PoayzqbWmt6O5oLutvZG/TrOVgAACH5BAAUAAAAIf8LSW1hZ2VNYWdpY2sOZ2FtbWE9MC40NTQ1NDUALAAAAAAwADAAAAKphI8Jw+0/lJzUwNuq1hjvL3UXSB4iVJbnk5Kr04JvFm8zU9t3zu08dYv8JsEh0WdMFJNK5CcYiEqn1IDgis1qBdCqN7oNY7vfqlhMLk/P4bQazNa633H57U2tZ+dq/fiOJ+V3xVc2yAUYaDVY+HXY6PWYGCg5owjnB2nGGDSJ1+n5Bmp5OfpyGWC6gqp6wtra8Qp7ITv7UGvbgJs7sJvraws8KwxL3IpaAAAh+QQAFAAAACH/C0ltYWdlTWFnaWNrDmdhbW1hPTAuNDU0NTQ1ACwAAAAAMAAwAAACgoSPCcHtD6NT9MiLX6253015ogYm4xmUJiqqCNu6BuzJM53ZC47pfG/7fYLCiK8IOSInxCVMAI1KpwKng4qNWhvZ7JbRxX4DYeq4PD2jtd81e+uGqt3zdR19L+fD+27f2xb3JxZIV2h3iJeot8jX6PcICCcYSThpeImYqbjJ2OkoUgAAIfkEABQAAAAh/wtJbWFnZU1hZ2ljaw5nYW1tYT0wLjQ1NDU0NQAsAAAAADAAMACAAAD/gAD/AnKEjwnB7R+UnNTA26rWGO8vdRdIHiJUlueTkqvTgm8WbzNT23fO7Tx1i/wmwSHRZ0wUk0ok0+J8Lp/QGdUUZU6pW2k22dV+jWHweFgmn39p9JrXZr9zcfi8VqffY3n8vtXH95cSCDiocuiSKLP4UUg4WAAAOw==\" \n",
       "         width=\"96\" height=\"96\"\n",
       "         style=\"image-rendering: pixelated;\">\n",
       "</div>\n"
      ]
     },
     "metadata": {},
     "output_type": "display_data"
    },
    {
     "data": {
      "image/png": "[encoded data removed]",
      "text/html": [
       "<img src=\"data:image/png;base64,iVBORw0KGgoAAAANSUhEUgAAAJAAAACQCAIAAABoJHXvAAAAAXNSR0IArs4c6QAAAARnQU1BAACxjwv8YQUAAAAgY0hSTQAAeiYAAICEAAD6AAAAgOgAAHUwAADqYAAAOpgAABdwnLpRPAAAAT9JREFUeAHtwYEJACAAw7AK/f9lfcNBE+Hyk8vhJ4fLTyRTJFMkUyRTJFMkUyRTJFMkUyRTJFMkUyRTJFMkUyRTJFMkUyRTJFMkUyRTJFMkUyRTJFMkUyRTJFMkUyRTJFMkUyRTJFMkUyRTJFMkUyRTJFMkUyRTJFMkUyRTJFMkUyRTJFMkUyRTJFMkUyRTJFMkUyRTJFMkUyRTJFMkUyRTJFMkUyRTJFMkUyRTJFMkUyRTJFMkUyRTJFMkUyRTJFMkUyRTJFMkUyRTJFMkUyRTJFMkUyRTJFMkUyRTJFMkUyRTJFMkUyRTJFMkUyRTJFMkUyRTJFMkUyRTJFMkUyRTJFMkUyRTJFMkUyRTJFMkUyRTJFMkUyRTJFMkUyRTJFMkUyRTJFMkUyRTJFMkUyRTJFMkUyRTJFMkUyRTJFMeHQYFQCYGmz0AAAAASUVORK5C\">"
      ],
      "text/plain": [
       "48×48 Array{RGB{Float64},2} with eltype RGB{Float64}:\n",
       " RGB{Float64}(0.0,0.0,1.0)  …  RGB{Float64}(0.0,0.0,1.0)\n",
       " RGB{Float64}(0.0,0.0,1.0)     RGB{Float64}(0.0,0.0,1.0)\n",
       " RGB{Float64}(0.0,0.0,1.0)     RGB{Float64}(0.0,0.0,1.0)\n",
       " RGB{Float64}(0.0,0.0,1.0)     RGB{Float64}(0.0,0.0,1.0)\n",
       " RGB{Float64}(0.0,0.0,1.0)     RGB{Float64}(0.0,0.0,1.0)\n",
       " RGB{Float64}(0.0,0.0,1.0)  …  RGB{Float64}(0.0,0.0,1.0)\n",
       " RGB{Float64}(0.0,0.0,1.0)     RGB{Float64}(0.0,0.0,1.0)\n",
       " RGB{Float64}(0.0,0.0,1.0)     RGB{Float64}(0.0,0.0,1.0)\n",
       " RGB{Float64}(0.0,0.0,1.0)     RGB{Float64}(0.0,0.0,1.0)\n",
       " RGB{Float64}(0.0,0.0,1.0)     RGB{Float64}(0.0,0.0,1.0)\n",
       " ⋮                          ⋱  \n",
       " RGB{Float64}(0.0,0.0,1.0)     RGB{Float64}(0.0,0.0,1.0)\n",
       " RGB{Float64}(0.0,0.0,1.0)  …  RGB{Float64}(0.0,0.0,1.0)\n",
       " RGB{Float64}(0.0,0.0,1.0)     RGB{Float64}(0.0,0.0,1.0)\n",
       " RGB{Float64}(0.0,0.0,1.0)     RGB{Float64}(0.0,0.0,1.0)\n",
       " RGB{Float64}(0.0,0.0,1.0)     RGB{Float64}(0.0,0.0,1.0)\n",
       " RGB{Float64}(0.0,0.0,1.0)     RGB{Float64}(0.0,0.0,1.0)\n",
       " RGB{Float64}(0.0,0.0,1.0)  …  RGB{Float64}(0.0,0.0,1.0)\n",
       " RGB{Float64}(0.0,0.0,1.0)     RGB{Float64}(0.0,0.0,1.0)\n",
       " RGB{Float64}(0.0,0.0,1.0)     RGB{Float64}(0.0,0.0,1.0)"
      ]
     },
     "metadata": {},
     "output_type": "display_data"
    },
    {
     "data": {
      "image/png": "[encoded data removed]",
      "text/html": [
       "<img src=\"data:image/png;base64,iVBORw0KGgoAAAANSUhEUgAAAJAAAACQCAIAAABoJHXvAAAAAXNSR0IArs4c6QAAAARnQU1BAACxjwv8YQUAAAAgY0hSTQAAeiYAAICEAAD6AAAAgOgAAHUwAADqYAAAOpgAABdwnLpRPAAAAUpJREFUeAHtwcEJAzAAxDAHPHg3Tydo3zmwJFxecjm85HB5iWSKZIpkimSKZIpkimSKZIpkimSKZIpkimSKZIpkimSKZIpkimSKZIpkimSKZIpkimSKZIpkimSKZIpkimSKZIpkimSKZIpkimSKZIpkimSKZIpkimSKZIpkimSKZIrcw1MO+UMyRTJFMkUyRTJFMkUyRTJFMkUyRTJFMkUyRTJFMkUyRTJFMkUyRTJFMkUyRTJFMkUyRTJFMkUyRTJFMkUyRTJFMkUyRTJFMkUyRTJFMkUyRTJFMkUyRTJFMkUyRTLFz7m85ZDfJFMkUyRTJFMkUyRTJFMkUyRTJFMkUyRTJFMkUyRTJFMkUyRTJFMkUyRTJFMkUyRTJFMkUyRTJFMkUyRTJFMkUyRTJFMkUyRTJFMkUyRTJFMkUyRTJFMkUyRTJFMkU75CpAfCMjsCXAAAAABJRU5ErkJg\">"
      ],
      "text/plain": [
       "48×48 Array{RGB{Float64},2} with eltype RGB{Float64}:\n",
       " RGB{Float64}(0.0,0.0,1.0)  …  RGB{Float64}(0.0,0.0,1.0)\n",
       " RGB{Float64}(0.0,0.0,1.0)     RGB{Float64}(0.0,0.0,1.0)\n",
       " RGB{Float64}(0.0,0.0,1.0)     RGB{Float64}(0.0,0.0,1.0)\n",
       " RGB{Float64}(0.0,0.0,1.0)     RGB{Float64}(0.0,0.0,1.0)\n",
       " RGB{Float64}(0.0,0.0,1.0)     RGB{Float64}(0.0,0.0,1.0)\n",
       " RGB{Float64}(0.0,0.0,1.0)  …  RGB{Float64}(0.0,0.0,1.0)\n",
       " RGB{Float64}(0.0,0.0,1.0)     RGB{Float64}(0.0,0.0,1.0)\n",
       " RGB{Float64}(0.0,0.0,1.0)     RGB{Float64}(0.0,0.0,1.0)\n",
       " RGB{Float64}(0.0,0.0,1.0)     RGB{Float64}(0.0,0.0,1.0)\n",
       " RGB{Float64}(0.0,0.0,1.0)     RGB{Float64}(0.0,0.0,1.0)\n",
       " ⋮                          ⋱  \n",
       " RGB{Float64}(0.5,0.0,1.0)     RGB{Float64}(0.0,0.0,1.0)\n",
       " RGB{Float64}(0.5,0.0,1.0)  …  RGB{Float64}(0.0,0.0,1.0)\n",
       " RGB{Float64}(0.5,0.0,1.0)     RGB{Float64}(0.0,0.0,1.0)\n",
       " RGB{Float64}(0.5,0.0,1.0)     RGB{Float64}(0.0,0.0,1.0)\n",
       " RGB{Float64}(0.5,0.0,1.0)     RGB{Float64}(0.0,0.0,1.0)\n",
       " RGB{Float64}(0.5,0.0,1.0)     RGB{Float64}(0.0,0.0,1.0)\n",
       " RGB{Float64}(0.5,0.0,1.0)  …  RGB{Float64}(0.0,0.0,1.0)\n",
       " RGB{Float64}(0.5,0.0,1.0)     RGB{Float64}(0.0,0.0,1.0)\n",
       " RGB{Float64}(0.5,0.0,1.0)     RGB{Float64}(0.0,0.0,1.0)"
      ]
     },
     "metadata": {},
     "output_type": "display_data"
    },
    {
     "data": {
      "text/html": [
       "<div style=\"width:96px; height:96px; image-rendering: pixelated;\">\n",
       "    <img src=\"data:image/gif;base64,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\" \n",
       "         width=\"96\" height=\"96\"\n",
       "         style=\"image-rendering: pixelated;\">\n",
       "</div>\n"
      ]
     },
     "metadata": {},
     "output_type": "display_data"
    },
    {
     "data": {
      "image/png": "[encoded data removed]",
      "text/html": [
       "<img src=\"data:image/png;base64,iVBORw0KGgoAAAANSUhEUgAAAGQAAABkCAIAAAD/gAIDAAAAAXNSR0IArs4c6QAAAARnQU1BAACxjwv8YQUAAAAgY0hSTQAAeiYAAICEAAD6AAAAgOgAAHUwAADqYAAAOpgAABdwnLpRPAAAANFJREFUeAHtwbENwDAAwzAF0P8vpy8YXbKIFC4vXA5/HS4vSGaSmWQmmUlmkplkJplJZpKZZCaZSWaSmWQmmUlmkplkJplJZpKZZCaZSWaSmWQmmUlmkplkJplJZpKZZCaZSWaSmWQmmUlmkplkJplJZpKZZCaZSWaSmWQmmUlmkplkJplJZpKZZCaZSWaSmWQmmUlmkplkJplJZpKZZCaZSWaSmWQmmUlmkplkJplJZpKZZCaZSWaSmWQmmUlmkplkJplJZpKZZCaZSWaSmWT2AWnPBJChFc6XAAAAAElFTkSuQmCC\">"
      ],
      "text/plain": [
       "50×50 Array{RGB{Float64},2} with eltype RGB{Float64}:\n",
       " RGB{Float64}(0.0,0.0,1.0)  …  RGB{Float64}(0.0,0.0,1.0)\n",
       " RGB{Float64}(0.0,0.0,1.0)     RGB{Float64}(0.0,0.0,1.0)\n",
       " RGB{Float64}(0.0,0.0,1.0)     RGB{Float64}(0.0,0.0,1.0)\n",
       " RGB{Float64}(0.0,0.0,1.0)     RGB{Float64}(0.0,0.0,1.0)\n",
       " RGB{Float64}(0.0,0.0,1.0)     RGB{Float64}(0.0,0.0,1.0)\n",
       " RGB{Float64}(0.0,0.0,1.0)  …  RGB{Float64}(0.0,0.0,1.0)\n",
       " RGB{Float64}(0.0,0.0,1.0)     RGB{Float64}(0.0,0.0,1.0)\n",
       " RGB{Float64}(0.0,0.0,1.0)     RGB{Float64}(0.0,0.0,1.0)\n",
       " RGB{Float64}(0.0,0.0,1.0)     RGB{Float64}(0.0,0.0,1.0)\n",
       " RGB{Float64}(0.0,0.0,1.0)     RGB{Float64}(0.0,0.0,1.0)\n",
       " ⋮                          ⋱  \n",
       " RGB{Float64}(0.0,0.0,1.0)     RGB{Float64}(0.0,0.0,1.0)\n",
       " RGB{Float64}(0.0,0.0,1.0)     RGB{Float64}(0.0,0.0,1.0)\n",
       " RGB{Float64}(0.0,0.0,1.0)     RGB{Float64}(0.0,0.0,1.0)\n",
       " RGB{Float64}(0.0,0.0,1.0)     RGB{Float64}(0.0,0.0,1.0)\n",
       " RGB{Float64}(0.0,0.0,1.0)  …  RGB{Float64}(0.0,0.0,1.0)\n",
       " RGB{Float64}(0.0,0.0,1.0)     RGB{Float64}(0.0,0.0,1.0)\n",
       " RGB{Float64}(0.0,0.0,1.0)     RGB{Float64}(0.0,0.0,1.0)\n",
       " RGB{Float64}(0.0,0.0,1.0)     RGB{Float64}(0.0,0.0,1.0)\n",
       " RGB{Float64}(0.0,0.0,1.0)     RGB{Float64}(0.0,0.0,1.0)"
      ]
     },
     "metadata": {},
     "output_type": "display_data"
    },
    {
     "data": {
      "image/png": "[encoded data removed]",
      "text/html": [
       "<img src=\"data:image/png;base64,iVBORw0KGgoAAAANSUhEUgAAAGQAAABkCAIAAAD/gAIDAAAAAXNSR0IArs4c6QAAAARnQU1BAACxjwv8YQUAAAAgY0hSTQAAeiYAAICEAAD6AAAAgOgAAHUwAADqYAAAOpgAABdwnLpRPAAAAM9JREFUeAHtwTERwDAAxDAPBh7mKQVflywvCZcXDv8d3pDJZDKZTCaTyWQymUwmk8lkMplMJpPJZDKZTCaTyWQymUwmk8lkMplMJpPJZDKZTCaTyWQymUwmk8lkMplMJpPJZDKZTCaTyWQymUwmk8lkMplMJpPJZDKZTCaTyWQymUwmk8lkMplMJpPJZDKZTCaTyWQymUwmk8lkMplMJpPJZDKZTCaTyWQymUwmk8lkMplMJpPJZDKZTCaTyWQymUwmk8lkMplMJpPJZDKZ7ANn9AOQn/AEnAAAAABJRU5ErkJg\">"
      ],
      "text/plain": [
       "50×50 Array{RGB{Float64},2} with eltype RGB{Float64}:\n",
       " RGB{Float64}(0.0,0.0,1.0)  …  RGB{Float64}(0.0,0.0,1.0)\n",
       " RGB{Float64}(0.0,0.0,1.0)     RGB{Float64}(0.0,0.0,1.0)\n",
       " RGB{Float64}(0.0,0.0,1.0)     RGB{Float64}(0.0,0.0,1.0)\n",
       " RGB{Float64}(0.0,0.0,1.0)     RGB{Float64}(0.0,0.0,1.0)\n",
       " RGB{Float64}(0.0,0.0,1.0)     RGB{Float64}(0.0,0.0,1.0)\n",
       " RGB{Float64}(0.0,0.0,1.0)  …  RGB{Float64}(0.0,0.0,1.0)\n",
       " RGB{Float64}(0.0,0.0,1.0)     RGB{Float64}(0.0,0.0,1.0)\n",
       " RGB{Float64}(0.0,0.0,1.0)     RGB{Float64}(0.0,0.0,1.0)\n",
       " RGB{Float64}(0.0,0.0,1.0)     RGB{Float64}(0.0,0.0,1.0)\n",
       " RGB{Float64}(0.0,0.0,1.0)     RGB{Float64}(0.0,0.0,1.0)\n",
       " ⋮                          ⋱  \n",
       " RGB{Float64}(0.0,0.0,1.0)     RGB{Float64}(0.0,0.0,1.0)\n",
       " RGB{Float64}(0.0,0.0,1.0)     RGB{Float64}(0.0,0.0,1.0)\n",
       " RGB{Float64}(0.0,0.0,1.0)     RGB{Float64}(0.0,0.0,1.0)\n",
       " RGB{Float64}(0.0,0.0,1.0)     RGB{Float64}(0.0,0.0,1.0)\n",
       " RGB{Float64}(0.0,0.0,1.0)  …  RGB{Float64}(0.0,0.0,1.0)\n",
       " RGB{Float64}(0.0,0.0,1.0)     RGB{Float64}(0.0,0.0,1.0)\n",
       " RGB{Float64}(0.0,0.0,1.0)     RGB{Float64}(0.0,0.0,1.0)\n",
       " RGB{Float64}(0.0,0.0,1.0)     RGB{Float64}(0.0,0.0,1.0)\n",
       " RGB{Float64}(0.0,0.0,1.0)     RGB{Float64}(0.0,0.0,1.0)"
      ]
     },
     "metadata": {},
     "output_type": "display_data"
    },
    {
     "data": {
      "text/html": [
       "<div style=\"width:100px; height:100px; image-rendering: pixelated;\">\n",
       "    <img src=\"data:image/gif;base64,R0lGODlhMgAyAPIAAP8AAAD/AP+AAP//AAAA/4AA/wD//wAAACH/C05FVFNDQVBFMi4wAwEAAAAh+QQAFAAAACH/C0ltYWdlTWFnaWNrDmdhbW1hPTAuNDU0NTQ1ACwAAAAAMgAyAAAD/1i6LP5wyEmhFSDrzXq5ESWCz2YCXkMK4rieXKqsbDvRsCbPq32/OdSO5pPggrtPr3jMJYlMoHO49DVhz6rteqIlk8XwwPuViaOksvm8XalT7Hb63Ym3yPSF3TXPK/YVbn5/gEaCg4WGfX6JAwaPkJFJQZRCMpGYBpOVU5eZkJucJ0mfoDuiWDulj6GoOqqrra6WKauap7OvnqWyrqSxuLm0Hra9qFkkAcrLzM3NBNDR0s7MNNTXz9La2AHW3Nja29je39Th0+Mr5dfn0dzk68zt0O/q8dnt9cn38vP6IPz65Uu3L2CAeQT+XQBThFsYPHAaYnt4KKIPh2hAMLw4MSTjwh1hMFqp6CFkx5GLSkq8RjFlnZXUWmoECdOZzI9rOLIskgAAIfkEABQAAAAh/wtJbWFnZU1hZ2ljaw5nYW1tYT0wLjQ1NDU0NQAsAAAAADIAMgAAA/9Yuiz+cMhJoRUg6816uRElgs9mAl5DCuK4nlyqrGw70bAmz6t9vznUjuaT4IK7T694zCWJTKBzuPQ1Yc+q7XqiJZPF8MD7lYmjpLL5vF2pU+x2+t2Jt8j0hd01zyv2FW5+f4BGgoOFhn1+iQMGj5CRSUGUQjKRmAaTlVOXmZCbnCdJn6A7olg7pY+hqDqqq62ulimrmqezr56lsq6ksbi5tB62vahZJAHKy8zNzQTQ0dLT0zTO19fU2trW2N7K2+HR3d/Y4uLk5c7n4enqzOzb7u/g8dTz9Pb3K/Tr+tL43v0DeAhOkW/oCnoIg7CdwjoHvSVctDCiOYcUIfpoKO8dIQOGEjGCAGMxm8gLJDeG7JjxY0l/LEfuAHlxWwIAIfkEABQAAAAh/wtJbWFnZU1hZ2ljaw5nYW1tYT0wLjQ1NDU0NQAsAAAAADIAMgCAAAD/gAD/AomMj6DL6MGijC9NVc/dKxvuQdwWgt5InmmGXuVatdPrqnJjz/kN0DrL6+wow2DQZzQik7wlU+Z8oqJSE7B6o2J/sS206OU+wi0tGQM+C69qsaMNG8PdljmRbUfj8+Zzn/wXFug1uFWIdViVKLX41Mj0mBSplNY2eVSpdtmU6dcJ+CkYSjhqWMpQAAAh+QQAFAAAACH/C0ltYWdlTWFnaWNrDmdhbW1hPTAuNDU0NTQ1ACwAAAAAMgAyAIAAAP+AAP8CdoSPmcHtCqOcroaJM7RP+8w13yiFDIkuZsoC5tWibyyv9DjfX65rfI/5AUu2IaVojAiTqhCT6HxukNLDsnqVZp9bZjf5NYaHY2C5d9alb2taO/ZuxVnzVL0WrSLuJD6Oque3A4hFqGXIheilCMYo5kgGaSapUAAAOw==\" \n",
       "         width=\"100\" height=\"100\"\n",
       "         style=\"image-rendering: pixelated;\">\n",
       "</div>\n"
      ]
     },
     "metadata": {},
     "output_type": "display_data"
    },
    {
     "data": {
      "image/png": "[encoded data removed]",
      "text/html": [
       "<img src=\"data:image/png;base64,iVBORw0KGgoAAAANSUhEUgAAAGQAAABkCAIAAAD/gAIDAAAAAXNSR0IArs4c6QAAAARnQU1BAACxjwv8YQUAAAAgY0hSTQAAeiYAAICEAAD6AAAAgOgAAHUwAADqYAAAOpgAABdwnLpRPAAAANFJREFUeAHtwbENwDAAwzAF0P8vpy8YXbKIFC4vXA5/HS4vSGaSmWQmmUlmkplkJplJZpKZZCaZSWaSmWQmmUlmkplkJplJZpKZZCaZSWaSmWQmmUlmkplkJplJZpKZZCaZSWaSmWQmmUlmkplkJplJZpKZZCaZSWaSmWQmmUlmkplkJplJZpKZZCaZSWaSmWQmmUlmkplkJplJZpKZZCaZSWaSmWQmmUlmkplkJplJZpKZZCaZSWaSmWQmmUlmkplkJplJZpKZZCaZSWaSmWT2AWnPBJChFc6XAAAAAElFTkSuQmCC\">"
      ],
      "text/plain": [
       "50×50 Array{RGB{Float64},2} with eltype RGB{Float64}:\n",
       " RGB{Float64}(0.0,0.0,1.0)  …  RGB{Float64}(0.0,0.0,1.0)\n",
       " RGB{Float64}(0.0,0.0,1.0)     RGB{Float64}(0.0,0.0,1.0)\n",
       " RGB{Float64}(0.0,0.0,1.0)     RGB{Float64}(0.0,0.0,1.0)\n",
       " RGB{Float64}(0.0,0.0,1.0)     RGB{Float64}(0.0,0.0,1.0)\n",
       " RGB{Float64}(0.0,0.0,1.0)     RGB{Float64}(0.0,0.0,1.0)\n",
       " RGB{Float64}(0.0,0.0,1.0)  …  RGB{Float64}(0.0,0.0,1.0)\n",
       " RGB{Float64}(0.0,0.0,1.0)     RGB{Float64}(0.0,0.0,1.0)\n",
       " RGB{Float64}(0.0,0.0,1.0)     RGB{Float64}(0.0,0.0,1.0)\n",
       " RGB{Float64}(0.0,0.0,1.0)     RGB{Float64}(0.0,0.0,1.0)\n",
       " RGB{Float64}(0.0,0.0,1.0)     RGB{Float64}(0.0,0.0,1.0)\n",
       " ⋮                          ⋱  \n",
       " RGB{Float64}(0.0,0.0,1.0)     RGB{Float64}(0.0,0.0,1.0)\n",
       " RGB{Float64}(0.0,0.0,1.0)     RGB{Float64}(0.0,0.0,1.0)\n",
       " RGB{Float64}(0.0,0.0,1.0)     RGB{Float64}(0.0,0.0,1.0)\n",
       " RGB{Float64}(0.0,0.0,1.0)     RGB{Float64}(0.0,0.0,1.0)\n",
       " RGB{Float64}(0.0,0.0,1.0)  …  RGB{Float64}(0.0,0.0,1.0)\n",
       " RGB{Float64}(0.0,0.0,1.0)     RGB{Float64}(0.0,0.0,1.0)\n",
       " RGB{Float64}(0.0,0.0,1.0)     RGB{Float64}(0.0,0.0,1.0)\n",
       " RGB{Float64}(0.0,0.0,1.0)     RGB{Float64}(0.0,0.0,1.0)\n",
       " RGB{Float64}(0.0,0.0,1.0)     RGB{Float64}(0.0,0.0,1.0)"
      ]
     },
     "metadata": {},
     "output_type": "display_data"
    },
    {
     "data": {
      "image/png": "[encoded data removed]",
      "text/html": [
       "<img src=\"data:image/png;base64,iVBORw0KGgoAAAANSUhEUgAAAGQAAABkCAIAAAD/gAIDAAAAAXNSR0IArs4c6QAAAARnQU1BAACxjwv8YQUAAAAgY0hSTQAAeiYAAICEAAD6AAAAgOgAAHUwAADqYAAAOpgAABdwnLpRPAAAANlJREFUeAHtwcENgDAAxLBUyv4rlxUiPjw4W7h84XJ463D5gkwmk8lkMplMJpPJZDKZTCaTyWQymUwmk8lkMplMJpPJZHJ57/ArMplMJpPJZDKZTCaTyWQymUwmk8lkMplMJpPJZDKZTCaTyWEimUwmk8lkMplMJpPJZDKZTCaTyWQymUwmk8lkMplMJpPJZDKZTCaTyWQymUwmk8lkMplMJpPJZDKZTCaTyWQymUwmk8nk8t7hV2QymUwmk8lkMplMJpPJZDKZTCaTyWQymUwmk8lkMplMJnsARssGkWjhXacAAAAASUVORK5C\">"
      ],
      "text/plain": [
       "50×50 Array{RGB{Float64},2} with eltype RGB{Float64}:\n",
       " RGB{Float64}(0.0,0.0,1.0)  …  RGB{Float64}(0.0,0.0,1.0)\n",
       " RGB{Float64}(0.0,0.0,1.0)     RGB{Float64}(0.0,0.0,1.0)\n",
       " RGB{Float64}(0.0,0.0,1.0)     RGB{Float64}(0.0,0.0,1.0)\n",
       " RGB{Float64}(0.0,0.0,1.0)     RGB{Float64}(0.0,0.0,1.0)\n",
       " RGB{Float64}(0.0,0.0,1.0)     RGB{Float64}(0.0,0.0,1.0)\n",
       " RGB{Float64}(0.0,0.0,1.0)  …  RGB{Float64}(0.0,0.0,1.0)\n",
       " RGB{Float64}(0.0,0.0,1.0)     RGB{Float64}(0.0,0.0,1.0)\n",
       " RGB{Float64}(0.0,0.0,1.0)     RGB{Float64}(0.0,0.0,1.0)\n",
       " RGB{Float64}(0.0,0.0,1.0)     RGB{Float64}(0.0,0.0,1.0)\n",
       " RGB{Float64}(0.0,0.0,1.0)     RGB{Float64}(0.0,0.0,1.0)\n",
       " ⋮                          ⋱  \n",
       " RGB{Float64}(0.0,1.0,1.0)     RGB{Float64}(0.0,0.0,1.0)\n",
       " RGB{Float64}(0.0,1.0,1.0)     RGB{Float64}(0.0,0.0,1.0)\n",
       " RGB{Float64}(0.0,1.0,1.0)     RGB{Float64}(0.0,0.0,1.0)\n",
       " RGB{Float64}(0.0,1.0,1.0)     RGB{Float64}(0.0,0.0,1.0)\n",
       " RGB{Float64}(0.0,1.0,1.0)  …  RGB{Float64}(0.0,0.0,1.0)\n",
       " RGB{Float64}(0.0,1.0,1.0)     RGB{Float64}(0.0,0.0,1.0)\n",
       " RGB{Float64}(0.0,1.0,1.0)     RGB{Float64}(0.0,0.0,1.0)\n",
       " RGB{Float64}(0.0,1.0,1.0)     RGB{Float64}(0.0,0.0,1.0)\n",
       " RGB{Float64}(0.0,1.0,1.0)     RGB{Float64}(0.0,0.0,1.0)"
      ]
     },
     "metadata": {},
     "output_type": "display_data"
    },
    {
     "data": {
      "text/html": [
       "<div style=\"width:100px; height:100px; image-rendering: pixelated;\">\n",
       "    <img src=\"data:image/gif;base64,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\" \n",
       "         width=\"100\" height=\"100\"\n",
       "         style=\"image-rendering: pixelated;\">\n",
       "</div>\n"
      ]
     },
     "metadata": {},
     "output_type": "display_data"
    },
    {
     "data": {
      "image/png": "[encoded data removed]",
      "text/html": [
       "<img src=\"data:image/png;base64,iVBORw0KGgoAAAANSUhEUgAAAIcAAACHCAIAAACzhd1dAAAAAXNSR0IArs4c6QAAAARnQU1BAACxjwv8YQUAAAAgY0hSTQAAeiYAAICEAAD6AAAAgOgAAHUwAADqYAAAOpgAABdwnLpRPAAAAS9JREFUeAHtwcEJwDAAxDAHvP/K6Qp9XsCScHnN5fDb4fIayR7JHskeyR7JHskeyR7JHskeyR7JHskeyR7JHskeyR7JHskeyR7JHskeyR7JHskeyR7JHskeyR7JHskeyR7JHskeyR7JHskeyR7JHskeyR7JHskeyR7JHskeyR7JHskeyR7JHskeyR7JHskeyR7JHskeyR7JHskeyR7JHskeyR7JHskeyR7JHskeyR7JHskeyR7JHskeyR7JHskeyR7JHskeyR7JHskeyR7JHskeyR7JHskeyR7JHskeyR7JHskeyR7JHskeyR7JHskeyR7JHskeyR7JHskeyR7JHskeyR7JHskeyR7JHskeyR7JHskeyR7JHskeyR7JHskeyR7JHskeyR7JHskeyR7Jng9gfwUcp6x4+wAAAABJRU5ErkJg\">"
      ],
      "text/plain": [
       "45×45 Array{RGB{Float64},2} with eltype RGB{Float64}:\n",
       " RGB{Float64}(0.0,0.0,1.0)  …  RGB{Float64}(0.0,0.0,1.0)\n",
       " RGB{Float64}(0.0,0.0,1.0)     RGB{Float64}(0.0,0.0,1.0)\n",
       " RGB{Float64}(0.0,0.0,1.0)     RGB{Float64}(0.0,0.0,1.0)\n",
       " RGB{Float64}(0.0,0.0,1.0)     RGB{Float64}(0.0,0.0,1.0)\n",
       " RGB{Float64}(0.0,0.0,1.0)     RGB{Float64}(0.0,0.0,1.0)\n",
       " RGB{Float64}(0.0,0.0,1.0)  …  RGB{Float64}(0.0,0.0,1.0)\n",
       " RGB{Float64}(0.0,0.0,1.0)     RGB{Float64}(0.0,0.0,1.0)\n",
       " RGB{Float64}(0.0,0.0,1.0)     RGB{Float64}(0.0,0.0,1.0)\n",
       " RGB{Float64}(0.0,0.0,1.0)     RGB{Float64}(0.0,0.0,1.0)\n",
       " RGB{Float64}(0.0,0.0,1.0)     RGB{Float64}(0.0,0.0,1.0)\n",
       " ⋮                          ⋱  \n",
       " RGB{Float64}(0.0,0.0,1.0)     RGB{Float64}(0.0,0.0,1.0)\n",
       " RGB{Float64}(0.0,0.0,1.0)     RGB{Float64}(0.0,0.0,1.0)\n",
       " RGB{Float64}(0.0,0.0,1.0)     RGB{Float64}(0.0,0.0,1.0)\n",
       " RGB{Float64}(0.0,0.0,1.0)     RGB{Float64}(0.0,0.0,1.0)\n",
       " RGB{Float64}(0.0,0.0,1.0)  …  RGB{Float64}(0.0,0.0,1.0)\n",
       " RGB{Float64}(0.0,0.0,1.0)     RGB{Float64}(0.0,0.0,1.0)\n",
       " RGB{Float64}(0.0,0.0,1.0)     RGB{Float64}(0.0,0.0,1.0)\n",
       " RGB{Float64}(0.0,0.0,1.0)     RGB{Float64}(0.0,0.0,1.0)\n",
       " RGB{Float64}(0.0,0.0,1.0)     RGB{Float64}(0.0,0.0,1.0)"
      ]
     },
     "metadata": {},
     "output_type": "display_data"
    },
    {
     "data": {
      "image/png": "[encoded data removed]",
      "text/html": [
       "<img src=\"data:image/png;base64,iVBORw0KGgoAAAANSUhEUgAAAIcAAACHCAIAAACzhd1dAAAAAXNSR0IArs4c6QAAAARnQU1BAACxjwv8YQUAAAAgY0hSTQAAeiYAAICEAAD6AAAAgOgAAHUwAADqYAAAOpgAABdwnLpRPAAAATRJREFUeAHtwcENwzAAxDAF0ODe3Fkh/anAkd7Dd8+5BBx+cPg/Mj0yPTI9Mj0yPTI9Mj0yPTI9Mj0yPTI9Mj0yPT7nMjEyPTI9Mj0yPTI9Mj0yPTI9Mj0yPTI9Mj0yPTI9Mj0yPTI9Mj0yPTI9Mj0yPTI9Mj0yPTI9Mj0yPTI9Mj0yPTI9Mj0yPTI9Mj0yPTI9Mj0yPTI9Mj0yPTI9Mj0yPTI9Mj0yPTI9Mj0yPTI9Mj0yPTI9Mj0yPTI9Mj0yPTI9Mj0yPTI9Mj0yPTI9Mj0yPTI9Mj0yPTI9Mj0yPTI9Mj0yPTI9Mj0yPTI9Mj0yPTI9Mj0yPTI9Mj0yPTI9Mj0yPTI9Mj0yPTI9Mj0yPTI9Mj0yPTI9Mj0yPTI9Mj0yPTI9Mj0yPTI9Mj0yPTI9Mj0yPTI9L5LNB5xiPD67AAAAAElFTkSuQmCC\">"
      ],
      "text/plain": [
       "45×45 Array{RGB{Float64},2} with eltype RGB{Float64}:\n",
       " RGB{Float64}(1.0,0.5,0.0)  …  RGB{Float64}(0.0,0.0,1.0)\n",
       " RGB{Float64}(1.0,0.5,0.0)     RGB{Float64}(0.0,0.0,1.0)\n",
       " RGB{Float64}(1.0,0.5,0.0)     RGB{Float64}(0.0,0.0,1.0)\n",
       " RGB{Float64}(1.0,0.5,0.0)     RGB{Float64}(0.0,0.0,1.0)\n",
       " RGB{Float64}(1.0,0.5,0.0)     RGB{Float64}(0.0,0.0,1.0)\n",
       " RGB{Float64}(0.0,0.0,1.0)  …  RGB{Float64}(0.0,0.0,1.0)\n",
       " RGB{Float64}(0.0,0.0,1.0)     RGB{Float64}(0.0,0.0,1.0)\n",
       " RGB{Float64}(0.0,0.0,1.0)     RGB{Float64}(0.0,0.0,1.0)\n",
       " RGB{Float64}(0.0,0.0,1.0)     RGB{Float64}(0.0,0.0,1.0)\n",
       " RGB{Float64}(0.0,0.0,1.0)     RGB{Float64}(0.0,0.0,1.0)\n",
       " ⋮                          ⋱  \n",
       " RGB{Float64}(0.0,0.0,1.0)     RGB{Float64}(0.0,0.0,1.0)\n",
       " RGB{Float64}(0.0,0.0,1.0)     RGB{Float64}(0.0,0.0,1.0)\n",
       " RGB{Float64}(0.0,0.0,1.0)     RGB{Float64}(0.0,0.0,1.0)\n",
       " RGB{Float64}(0.0,0.0,1.0)     RGB{Float64}(0.0,0.0,1.0)\n",
       " RGB{Float64}(0.0,0.0,1.0)  …  RGB{Float64}(0.0,0.0,1.0)\n",
       " RGB{Float64}(0.0,0.0,1.0)     RGB{Float64}(0.0,0.0,1.0)\n",
       " RGB{Float64}(0.0,0.0,1.0)     RGB{Float64}(0.0,0.0,1.0)\n",
       " RGB{Float64}(0.0,0.0,1.0)     RGB{Float64}(0.0,0.0,1.0)\n",
       " RGB{Float64}(0.0,0.0,1.0)     RGB{Float64}(0.0,0.0,1.0)"
      ]
     },
     "metadata": {},
     "output_type": "display_data"
    },
    {
     "data": {
      "text/html": [
       "<div style=\"width:90px; height:90px; image-rendering: pixelated;\">\n",
       "    <img src=\"data:image/gif;base64,R0lGODlhLQAtAPIAAP8AAAD/AP+AAP//AAAA/4AA/wD//wAAACH/C05FVFNDQVBFMi4wAwEAAAAh+QQAFAAAACH/C0ltYWdlTWFnaWNrDmdhbW1hPTAuNDU0NTQ1ACwAAAAALQAtAAAD/ziq0r2qSBlqnRJojQv8g/NAnXVhG4eBkCh8pdmlQMcuLoyZwZzat5BIN+H5NsAFYbn80AxQKO2oIUqYTcgzapiiUtYCluBMcbu/7yY8Lm/O3gmNjXVr4Gk5mLTSplw8eDQbY0kKNIAmgoMAhX0LiCKBXIyEWIYDkQ6TUZUajhN2AIkWi4OgEh9nY2cfY1tRbRCrWK0Qr2Zcsgu0TLZKWLBQuwq9S78KuG+6dbPMvlyuwbmxY83ATB3WWC5jPMQDqGLbS91Y39fJlxjk5SLeJuDi7QTmTOhM0tns7fZLPMIMcILCA6AnFwEHCixowdMoEQkVcWHY8CBEagQlRqFYwY0hQowLS03k6FFEB23cTPJjMsdZlJMr3TlAyXIPLy4wJ4xxQXNJy5svc45jwjMmgZ/FcArdqVLntDUuoRTV4xAqtiVCC0zNUNWqun05txbo6jXcurBNuZLVh1WoWLJVbp2FaXADxwD+6g3xY9cEjbt5c/DVUJcwx8B7IaUoDADwu5QORDF27IBp5MEAEgAAIfkEABQAAAAh/wtJbWFnZU1hZ2ljaw5nYW1tYT0wLjQ1NDU0NQAsAAAAAC0ALQAAA7k4qtJNMMpCqbz4LuZEjpX1jdA2dN4YFiRpouTajm8Xh3Nu5ry+9UDaL0iU7IrII9K3ADidt0py84SqcEVTFRAVEbXVLitLDV+l5EVPllassd9hjh1X8+hB5Qy/fKP7QHyAe3CDc4WGLYI8W35eQY13iD2Rh3+QZpaPQJWEl4GTZ5uOY5qlQYsfqZ6joqegn2JIMJKxPLSmsza1rTm4rK89v4qhOQHHx6RIyMm8wTzMAcpF0dNE1c5ICQAh+QQAFAAAACH/C0ltYWdlTWFnaWNrDmdhbW1hPTAuNDU0NTQ1ACwAAAAALQAtAIH/gAAAAP+AAP8AAAACh4QdqcvizqJMB8344N0V7JZ9VycqmVBKZHqm7teO1XvF00pjoXzkkq2a+UAPjnBo2iFpwCVL6XwWo64mdWO9TrJa3bSLhYJ/4jFRYyZ/02cU24t+J9cvnIgrssPKKX2Y7uJXw1ciuEWYhmemOMYI5tgFqSV5RUllGYXppLnEieQ5BOojmuNZAAAh+QQAFAAAACH/C0ltYWdlTWFnaWNrDmdhbW1hPTAuNDU0NTQ1ACwAAAAALQAtAIH/gAAAAP+AAP8AAAACfYQdqcvizqJMB8344N0V7JZ9VycqmVBKZHqm7te+MhbOdhLfc66/fM+qAV2/IUxoFBWTkyWT9ngqkVKJs4qjYhdXbLf6lYafY2Y5siqdGelp1NY+vmfxzXpRv9yB+15f93cTaDO4o7WVNYfIdYhYKPPo07gVSTTpdQmWeVEAACH5BAAUAAAAIf8LSW1hZ2VNYWdpY2sOZ2FtbWE9MC40NTQ1NDUALAAAAAAtAC0Agf+AAAAA/4AA/wAAAAJ0hB2py+LOokwHzfjg3RXsln1XJyqZUEpkeqbu174yFs52Et9zrr98z6oBXb8hTGgUFZOTJZP2eCqRUomziqNiF1dst/qVhp9jZjl5NqaHa2C799bFb3NbfafdZqN6qKbPlad3J0PoI7hlSIToxQjmKAY5UQAAOw==\" \n",
       "         width=\"90\" height=\"90\"\n",
       "         style=\"image-rendering: pixelated;\">\n",
       "</div>\n"
      ]
     },
     "metadata": {},
     "output_type": "display_data"
    },
    {
     "data": {
      "image/png": "[encoded data removed]",
      "text/html": [
       "<img src=\"data:image/png;base64,iVBORw0KGgoAAAANSUhEUgAAAIcAAACHCAIAAACzhd1dAAAAAXNSR0IArs4c6QAAAARnQU1BAACxjwv8YQUAAAAgY0hSTQAAeiYAAICEAAD6AAAAgOgAAHUwAADqYAAAOpgAABdwnLpRPAAAAS9JREFUeAHtwcEJwDAAxDAHvP/K6Qp9XsCScHnN5fDb4fIayR7JHskeyR7JHskeyR7JHskeyR7JHskeyR7JHskeyR7JHskeyR7JHskeyR7JHskeyR7JHskeyR7JHskeyR7JHskeyR7JHskeyR7JHskeyR7JHskeyR7JHskeyR7JHskeyR7JHskeyR7JHskeyR7JHskeyR7JHskeyR7JHskeyR7JHskeyR7JHskeyR7JHskeyR7JHskeyR7JHskeyR7JHskeyR7JHskeyR7JHskeyR7JHskeyR7JHskeyR7JHskeyR7JHskeyR7JHskeyR7JHskeyR7JHskeyR7JHskeyR7JHskeyR7JHskeyR7JHskeyR7JHskeyR7JHskeyR7JHskeyR7JHskeyR7Jng9gfwUcp6x4+wAAAABJRU5ErkJg\">"
      ],
      "text/plain": [
       "45×45 Array{RGB{Float64},2} with eltype RGB{Float64}:\n",
       " RGB{Float64}(0.0,0.0,1.0)  …  RGB{Float64}(0.0,0.0,1.0)\n",
       " RGB{Float64}(0.0,0.0,1.0)     RGB{Float64}(0.0,0.0,1.0)\n",
       " RGB{Float64}(0.0,0.0,1.0)     RGB{Float64}(0.0,0.0,1.0)\n",
       " RGB{Float64}(0.0,0.0,1.0)     RGB{Float64}(0.0,0.0,1.0)\n",
       " RGB{Float64}(0.0,0.0,1.0)     RGB{Float64}(0.0,0.0,1.0)\n",
       " RGB{Float64}(0.0,0.0,1.0)  …  RGB{Float64}(0.0,0.0,1.0)\n",
       " RGB{Float64}(0.0,0.0,1.0)     RGB{Float64}(0.0,0.0,1.0)\n",
       " RGB{Float64}(0.0,0.0,1.0)     RGB{Float64}(0.0,0.0,1.0)\n",
       " RGB{Float64}(0.0,0.0,1.0)     RGB{Float64}(0.0,0.0,1.0)\n",
       " RGB{Float64}(0.0,0.0,1.0)     RGB{Float64}(0.0,0.0,1.0)\n",
       " ⋮                          ⋱  \n",
       " RGB{Float64}(0.0,0.0,1.0)     RGB{Float64}(0.0,0.0,1.0)\n",
       " RGB{Float64}(0.0,0.0,1.0)     RGB{Float64}(0.0,0.0,1.0)\n",
       " RGB{Float64}(0.0,0.0,1.0)     RGB{Float64}(0.0,0.0,1.0)\n",
       " RGB{Float64}(0.0,0.0,1.0)     RGB{Float64}(0.0,0.0,1.0)\n",
       " RGB{Float64}(0.0,0.0,1.0)  …  RGB{Float64}(0.0,0.0,1.0)\n",
       " RGB{Float64}(0.0,0.0,1.0)     RGB{Float64}(0.0,0.0,1.0)\n",
       " RGB{Float64}(0.0,0.0,1.0)     RGB{Float64}(0.0,0.0,1.0)\n",
       " RGB{Float64}(0.0,0.0,1.0)     RGB{Float64}(0.0,0.0,1.0)\n",
       " RGB{Float64}(0.0,0.0,1.0)     RGB{Float64}(0.0,0.0,1.0)"
      ]
     },
     "metadata": {},
     "output_type": "display_data"
    },
    {
     "data": {
      "image/png": "[encoded data removed]",
      "text/html": [
       "<img src=\"data:image/png;base64,iVBORw0KGgoAAAANSUhEUgAAAIcAAACHCAIAAACzhd1dAAAAAXNSR0IArs4c6QAAAARnQU1BAACxjwv8YQUAAAAgY0hSTQAAeiYAAICEAAD6AAAAgOgAAHUwAADqYAAAOpgAABdwnLpRPAAAAYNJREFUeAHtwUGK3FAAxUB90L3bObmzzNYODLxpVOXFzWPXzXPX4Yd8ODx2uPltJHskeyR7JHskeyR7JHskeyR7JHskeyR7JHske7x44To8d/HGfXjsc/hukj2SPZI9kj2SPZI9kj2SPZI9kj2SPZI9kj2SPbLi5oXDV5PskeyR7JHskeyR7JHskeyR7JHskeyR7JHskezxYsPhhZsXDr+OZI9kj2SPZI9kj2SPZI9kj2SPZI9kj2SPZI9kj7xx8cZ9eO7cPHf4bpI9kj2SPZI9kj2SPZI9kj2SPZI9kj2SPZI9kj3yxsUL17l57CL/SPZI9kj2SPZI9kj2SPZI9kj2SPZI9kj2SPZI9sgbFy/c9+Gxc24e+/DlJHskeyR7JHskeyR7JHskeyR7JHskeyR7JHske+SNixf+nJv8F8keyR7JHskeyR7JHskeyR7JHskeyR7JHskeyR6vmxcOP+TijZsXDr+OZI9kj2SPZI9kj2SPZI9kj2SPZI9kj2SPZI9kz1/iaBqfwfxFsgAAAABJRU5ErkJg\">"
      ],
      "text/plain": [
       "45×45 Array{RGB{Float64},2} with eltype RGB{Float64}:\n",
       " RGB{Float64}(0.5,0.0,1.0)  …  RGB{Float64}(0.0,0.0,1.0)\n",
       " RGB{Float64}(0.5,0.0,1.0)     RGB{Float64}(0.0,0.0,1.0)\n",
       " RGB{Float64}(0.5,0.0,1.0)     RGB{Float64}(0.0,0.0,1.0)\n",
       " RGB{Float64}(0.5,0.0,1.0)     RGB{Float64}(0.0,0.0,1.0)\n",
       " RGB{Float64}(0.5,0.0,1.0)     RGB{Float64}(0.0,0.0,1.0)\n",
       " RGB{Float64}(0.0,0.0,1.0)  …  RGB{Float64}(0.0,0.0,1.0)\n",
       " RGB{Float64}(0.0,0.0,1.0)     RGB{Float64}(0.0,0.0,1.0)\n",
       " RGB{Float64}(0.0,0.0,1.0)     RGB{Float64}(0.0,0.0,1.0)\n",
       " RGB{Float64}(0.0,0.0,1.0)     RGB{Float64}(0.0,0.0,1.0)\n",
       " RGB{Float64}(0.0,0.0,1.0)     RGB{Float64}(0.0,0.0,1.0)\n",
       " ⋮                          ⋱  \n",
       " RGB{Float64}(0.5,0.0,1.0)     RGB{Float64}(0.0,0.0,1.0)\n",
       " RGB{Float64}(0.5,0.0,1.0)     RGB{Float64}(0.0,0.0,1.0)\n",
       " RGB{Float64}(0.5,0.0,1.0)     RGB{Float64}(0.0,0.0,1.0)\n",
       " RGB{Float64}(0.5,0.0,1.0)     RGB{Float64}(0.0,0.0,1.0)\n",
       " RGB{Float64}(0.0,1.0,1.0)  …  RGB{Float64}(0.0,0.0,1.0)\n",
       " RGB{Float64}(0.0,1.0,1.0)     RGB{Float64}(0.0,0.0,1.0)\n",
       " RGB{Float64}(0.0,1.0,1.0)     RGB{Float64}(0.0,0.0,1.0)\n",
       " RGB{Float64}(0.0,1.0,1.0)     RGB{Float64}(0.0,0.0,1.0)\n",
       " RGB{Float64}(0.0,1.0,1.0)     RGB{Float64}(0.0,0.0,1.0)"
      ]
     },
     "metadata": {},
     "output_type": "display_data"
    },
    {
     "data": {
      "text/html": [
       "<div style=\"width:90px; height:90px; image-rendering: pixelated;\">\n",
       "    <img src=\"data:image/gif;base64,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\" \n",
       "         width=\"90\" height=\"90\"\n",
       "         style=\"image-rendering: pixelated;\">\n",
       "</div>\n"
      ]
     },
     "metadata": {},
     "output_type": "display_data"
    },
    {
     "data": {
      "image/png": "[encoded data removed]",
      "text/html": [
       "<img src=\"data:image/png;base64,iVBORw0KGgoAAAANSUhEUgAAAGkAAABpCAIAAAC24JptAAAAAXNSR0IArs4c6QAAAARnQU1BAACxjwv8YQUAAAAgY0hSTQAAeiYAAICEAAD6AAAAgOgAAHUwAADqYAAAOpgAABdwnLpRPAAAANlJREFUeAHtwSEOwDAAxLBUyv+/3NHhQwWxhct7Loefw+U9kpVkJVlJVpKVZCVZSVaSlWQlWUlWkpVkJVlJVpKVZCVZSVaSlWQlWUlWkpVkJVlJVpKVZCVZSVaSlWQlWUlWkpVkJVlJVpKVZCVZSVaSlWQlWUlWkpVkJVlJVpKVZCVZSVaSlWQlWUlWkpVkJVlJVpKVZCVZSVaSlWQlWUlWkpVkJVlJVpKVZCVZSVaSlWQlWUlWkpVkJVlJVpKVZCVZSVaSlWQlWUlWkpVkJVlJVpKVZCVZSVYfBDQEpGSsCuEAAAAASUVORK5C\">"
      ],
      "text/plain": [
       "105×105 Array{RGB{Float64},2} with eltype RGB{Float64}:\n",
       " RGB{Float64}(0.0,0.0,1.0)  …  RGB{Float64}(0.0,0.0,1.0)\n",
       " RGB{Float64}(0.0,0.0,1.0)     RGB{Float64}(0.0,0.0,1.0)\n",
       " RGB{Float64}(0.0,0.0,1.0)     RGB{Float64}(0.0,0.0,1.0)\n",
       " RGB{Float64}(0.0,0.0,1.0)     RGB{Float64}(0.0,0.0,1.0)\n",
       " RGB{Float64}(0.0,0.0,1.0)     RGB{Float64}(0.0,0.0,1.0)\n",
       " RGB{Float64}(0.0,0.0,1.0)  …  RGB{Float64}(0.0,0.0,1.0)\n",
       " RGB{Float64}(0.0,0.0,1.0)     RGB{Float64}(0.0,0.0,1.0)\n",
       " RGB{Float64}(0.0,0.0,1.0)     RGB{Float64}(0.0,0.0,1.0)\n",
       " RGB{Float64}(0.0,0.0,1.0)     RGB{Float64}(0.0,0.0,1.0)\n",
       " RGB{Float64}(0.0,0.0,1.0)     RGB{Float64}(0.0,0.0,1.0)\n",
       " ⋮                          ⋱  \n",
       " RGB{Float64}(0.0,0.0,1.0)     RGB{Float64}(0.0,0.0,1.0)\n",
       " RGB{Float64}(0.0,0.0,1.0)     RGB{Float64}(0.0,0.0,1.0)\n",
       " RGB{Float64}(0.0,0.0,1.0)     RGB{Float64}(0.0,0.0,1.0)\n",
       " RGB{Float64}(0.0,0.0,1.0)     RGB{Float64}(0.0,0.0,1.0)\n",
       " RGB{Float64}(0.0,0.0,1.0)  …  RGB{Float64}(0.0,0.0,1.0)\n",
       " RGB{Float64}(0.0,0.0,1.0)     RGB{Float64}(0.0,0.0,1.0)\n",
       " RGB{Float64}(0.0,0.0,1.0)     RGB{Float64}(0.0,0.0,1.0)\n",
       " RGB{Float64}(0.0,0.0,1.0)     RGB{Float64}(0.0,0.0,1.0)\n",
       " RGB{Float64}(0.0,0.0,1.0)     RGB{Float64}(0.0,0.0,1.0)"
      ]
     },
     "metadata": {},
     "output_type": "display_data"
    },
    {
     "data": {
      "image/png": "[encoded data removed]",
      "text/html": [
       "<img src=\"data:image/png;base64,iVBORw0KGgoAAAANSUhEUgAAAGkAAABpCAIAAAC24JptAAAAAXNSR0IArs4c6QAAAARnQU1BAACxjwv8YQUAAAAgY0hSTQAAeiYAAICEAAD6AAAAgOgAAHUwAADqYAAAOpgAABdwnLpRPAAAAPFJREFUeAHtwUGKAlEAxcAIOfi/uS6HXvqgRZxUCU++z+Hi8I0kK8lKspKsJCvJSrKSrCQryUqykqwkK8lKspKsJCvJSrKSrCQryUqykqwkK8lKspKsJCvJSrKSrCQryUqykqwkK8lKspKsJCvJSrKSrOQdh4vDvyZZSVaSlWQl7zjkj2QlWUlWkpVkJVlJVpKVZCVZSVaSlWQlWUlWkpVkJVlJVvJ7nlw8uIlkJVlJVpKV3OZwcfiUB58hWUlWkpVkJbc5/DjJSrKSrCQryUqykqwkK8lKspKsJCvJSrKSrCQryUqykqwkK8lKspKsJKsXLKAHpS2hu8cAAAAASUVORK5C\">"
      ],
      "text/plain": [
       "105×105 Array{RGB{Float64},2} with eltype RGB{Float64}:\n",
       " RGB{Float64}(0.0,0.0,1.0)  …  RGB{Float64}(0.0,0.0,1.0)\n",
       " RGB{Float64}(0.0,0.0,1.0)     RGB{Float64}(0.0,0.0,1.0)\n",
       " RGB{Float64}(0.0,0.0,1.0)     RGB{Float64}(0.0,0.0,1.0)\n",
       " RGB{Float64}(0.0,0.0,1.0)     RGB{Float64}(0.0,0.0,1.0)\n",
       " RGB{Float64}(0.0,0.0,1.0)     RGB{Float64}(0.0,0.0,1.0)\n",
       " RGB{Float64}(0.0,0.0,1.0)  …  RGB{Float64}(0.0,0.0,1.0)\n",
       " RGB{Float64}(0.0,0.0,1.0)     RGB{Float64}(0.0,0.0,1.0)\n",
       " RGB{Float64}(0.0,0.0,1.0)     RGB{Float64}(0.0,0.0,1.0)\n",
       " RGB{Float64}(0.0,0.0,1.0)     RGB{Float64}(0.0,0.0,1.0)\n",
       " RGB{Float64}(0.0,0.0,1.0)     RGB{Float64}(0.0,0.0,1.0)\n",
       " ⋮                          ⋱  \n",
       " RGB{Float64}(0.0,0.0,1.0)     RGB{Float64}(0.0,0.0,1.0)\n",
       " RGB{Float64}(0.0,0.0,1.0)     RGB{Float64}(0.0,0.0,1.0)\n",
       " RGB{Float64}(0.0,0.0,1.0)     RGB{Float64}(0.0,0.0,1.0)\n",
       " RGB{Float64}(0.0,0.0,1.0)     RGB{Float64}(0.0,0.0,1.0)\n",
       " RGB{Float64}(0.0,0.0,1.0)  …  RGB{Float64}(0.0,0.0,1.0)\n",
       " RGB{Float64}(0.0,0.0,1.0)     RGB{Float64}(0.0,0.0,1.0)\n",
       " RGB{Float64}(0.0,0.0,1.0)     RGB{Float64}(0.0,0.0,1.0)\n",
       " RGB{Float64}(0.0,0.0,1.0)     RGB{Float64}(0.0,0.0,1.0)\n",
       " RGB{Float64}(0.0,0.0,1.0)     RGB{Float64}(0.0,0.0,1.0)"
      ]
     },
     "metadata": {},
     "output_type": "display_data"
    },
    {
     "data": {
      "text/html": [
       "<div style=\"width:210px; height:210px; image-rendering: pixelated;\">\n",
       "    <img src=\"data:image/gif;base64,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\" \n",
       "         width=\"210\" height=\"210\"\n",
       "         style=\"image-rendering: pixelated;\">\n",
       "</div>\n"
      ]
     },
     "metadata": {},
     "output_type": "display_data"
    },
    {
     "data": {
      "image/png": "[encoded data removed]",
      "text/html": [
       "<img src=\"data:image/png;base64,iVBORw0KGgoAAAANSUhEUgAAAGkAAABpCAIAAAC24JptAAAAAXNSR0IArs4c6QAAAARnQU1BAACxjwv8YQUAAAAgY0hSTQAAeiYAAICEAAD6AAAAgOgAAHUwAADqYAAAOpgAABdwnLpRPAAAANlJREFUeAHtwSEOwDAAxLBUyv+/3NHhQwWxhct7Loefw+U9kpVkJVlJVpKVZCVZSVaSlWQlWUlWkpVkJVlJVpKVZCVZSVaSlWQlWUlWkpVkJVlJVpKVZCVZSVaSlWQlWUlWkpVkJVlJVpKVZCVZSVaSlWQlWUlWkpVkJVlJVpKVZCVZSVaSlWQlWUlWkpVkJVlJVpKVZCVZSVaSlWQlWUlWkpVkJVlJVpKVZCVZSVaSlWQlWUlWkpVkJVlJVpKVZCVZSVaSlWQlWUlWkpVkJVlJVpKVZCVZSVYfBDQEpGSsCuEAAAAASUVORK5C\">"
      ],
      "text/plain": [
       "105×105 Array{RGB{Float64},2} with eltype RGB{Float64}:\n",
       " RGB{Float64}(0.0,0.0,1.0)  …  RGB{Float64}(0.0,0.0,1.0)\n",
       " RGB{Float64}(0.0,0.0,1.0)     RGB{Float64}(0.0,0.0,1.0)\n",
       " RGB{Float64}(0.0,0.0,1.0)     RGB{Float64}(0.0,0.0,1.0)\n",
       " RGB{Float64}(0.0,0.0,1.0)     RGB{Float64}(0.0,0.0,1.0)\n",
       " RGB{Float64}(0.0,0.0,1.0)     RGB{Float64}(0.0,0.0,1.0)\n",
       " RGB{Float64}(0.0,0.0,1.0)  …  RGB{Float64}(0.0,0.0,1.0)\n",
       " RGB{Float64}(0.0,0.0,1.0)     RGB{Float64}(0.0,0.0,1.0)\n",
       " RGB{Float64}(0.0,0.0,1.0)     RGB{Float64}(0.0,0.0,1.0)\n",
       " RGB{Float64}(0.0,0.0,1.0)     RGB{Float64}(0.0,0.0,1.0)\n",
       " RGB{Float64}(0.0,0.0,1.0)     RGB{Float64}(0.0,0.0,1.0)\n",
       " ⋮                          ⋱  \n",
       " RGB{Float64}(0.0,0.0,1.0)     RGB{Float64}(0.0,0.0,1.0)\n",
       " RGB{Float64}(0.0,0.0,1.0)     RGB{Float64}(0.0,0.0,1.0)\n",
       " RGB{Float64}(0.0,0.0,1.0)     RGB{Float64}(0.0,0.0,1.0)\n",
       " RGB{Float64}(0.0,0.0,1.0)     RGB{Float64}(0.0,0.0,1.0)\n",
       " RGB{Float64}(0.0,0.0,1.0)  …  RGB{Float64}(0.0,0.0,1.0)\n",
       " RGB{Float64}(0.0,0.0,1.0)     RGB{Float64}(0.0,0.0,1.0)\n",
       " RGB{Float64}(0.0,0.0,1.0)     RGB{Float64}(0.0,0.0,1.0)\n",
       " RGB{Float64}(0.0,0.0,1.0)     RGB{Float64}(0.0,0.0,1.0)\n",
       " RGB{Float64}(0.0,0.0,1.0)     RGB{Float64}(0.0,0.0,1.0)"
      ]
     },
     "metadata": {},
     "output_type": "display_data"
    },
    {
     "data": {
      "image/png": "[encoded data removed]",
      "text/html": [
       "<img src=\"data:image/png;base64,iVBORw0KGgoAAAANSUhEUgAAAGkAAABpCAIAAAC24JptAAAAAXNSR0IArs4c6QAAAARnQU1BAACxjwv8YQUAAAAgY0hSTQAAeiYAAICEAAD6AAAAgOgAAHUwAADqYAAAOpgAABdwnLpRPAAAAo1JREFUeAHtwUFuZAcMQ8FHgPdu9smVrbTwh63xJB1AVaaKTgxFF/EgTMUkmqhoUnQl0Yji28IQfk0YzNkyZ8ucLXO2XIhGFJ3owhCGimjeKoaiCZMYikF8X/hbwmDOljlb5myZs2V+zztFE/6AGIpBfAJztszZMmfLnC2/VTQV0ShFE4ZXRKMUD4pBPCm6iC58BHO2zNkyZ8ucLafooqIrBtHpVTQJXYpBdOGR+HzmbJmzZc6WOVuO6MKT8CQMEV14kqILQ71FkxQfwJwtc7bM2TJny68STSg6MRRdRBd+IEyiKwZV0YVPYM6WOVvmbJmzZan4PtGlGEQXpmIQ/3fmbJmzZc6WOVvmR0o0UdGEIQzhJ4pBfCBztszZMmfLnC3zrOiioglDlWhE0YkfEEMxiE9gzpY5W+ZsmbNlSjRR0YRHRScVTUU0qqKJ6MJUDOK3VESjFFvmbJmzZc6WOVuGokkxiC5MYig6UTQRD8Ik/hKl+CXmbJmzZc6WOVtG7BVdRBeG8KhEEybxgczZMmfLnC1zthyGMIQhDPUWXeiS4mthCEVTb9GIT2TOljlb5myZs+UwhCE8eaf4WngShnqL7sUQPpA5W+ZsmbNlzpaZwlARjV5FE/GkRKfi44UhPDFny5wtc7bM2XIYwqAUTUU0onig4msV0bxTNK+I/0L4AXO2zNkyZ8ucLYep6CI6UXytEM2boknRScXXXvyeYhBPikE8MGfLnC1ztszZMsUgfqDopKIrBjEUD8Qk/iXi+8zZMmfLnC1ztox4kKKLGEQXhogHr7do3imaF4P4A+IvMWfLnC1ztszZMiWGoonoXhGNXkVTb9G8UzRhSIqu6ELRiQ9kzpY5W+ZsmbP1D9fOrbDANy8tAAAAAElFTkSuQmCC\">"
      ],
      "text/plain": [
       "105×105 Array{RGB{Float64},2} with eltype RGB{Float64}:\n",
       " RGB{Float64}(0.0,1.0,1.0)  …  RGB{Float64}(0.5,0.0,1.0)\n",
       " RGB{Float64}(0.0,1.0,1.0)     RGB{Float64}(0.5,0.0,1.0)\n",
       " RGB{Float64}(0.0,1.0,1.0)     RGB{Float64}(0.5,0.0,1.0)\n",
       " RGB{Float64}(0.0,1.0,1.0)     RGB{Float64}(0.5,0.0,1.0)\n",
       " RGB{Float64}(0.0,1.0,1.0)     RGB{Float64}(0.5,0.0,1.0)\n",
       " RGB{Float64}(1.0,1.0,0.0)  …  RGB{Float64}(0.0,0.0,1.0)\n",
       " RGB{Float64}(1.0,1.0,0.0)     RGB{Float64}(0.0,0.0,1.0)\n",
       " RGB{Float64}(1.0,1.0,0.0)     RGB{Float64}(0.0,0.0,1.0)\n",
       " RGB{Float64}(1.0,1.0,0.0)     RGB{Float64}(0.0,0.0,1.0)\n",
       " RGB{Float64}(1.0,1.0,0.0)     RGB{Float64}(0.0,0.0,1.0)\n",
       " ⋮                          ⋱  \n",
       " RGB{Float64}(0.0,0.0,1.0)     RGB{Float64}(0.0,0.0,1.0)\n",
       " RGB{Float64}(0.0,0.0,1.0)     RGB{Float64}(0.0,0.0,1.0)\n",
       " RGB{Float64}(0.0,0.0,1.0)     RGB{Float64}(0.0,0.0,1.0)\n",
       " RGB{Float64}(0.0,0.0,1.0)     RGB{Float64}(0.0,0.0,1.0)\n",
       " RGB{Float64}(0.0,1.0,0.0)  …  RGB{Float64}(0.0,0.0,1.0)\n",
       " RGB{Float64}(0.0,1.0,0.0)     RGB{Float64}(0.0,0.0,1.0)\n",
       " RGB{Float64}(0.0,1.0,0.0)     RGB{Float64}(0.0,0.0,1.0)\n",
       " RGB{Float64}(0.0,1.0,0.0)     RGB{Float64}(0.0,0.0,1.0)\n",
       " RGB{Float64}(0.0,1.0,0.0)     RGB{Float64}(0.0,0.0,1.0)"
      ]
     },
     "metadata": {},
     "output_type": "display_data"
    },
    {
     "data": {
      "text/html": [
       "<div style=\"width:210px; height:210px; image-rendering: pixelated;\">\n",
       "    <img src=\"data:image/gif;base64,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\" \n",
       "         width=\"210\" height=\"210\"\n",
       "         style=\"image-rendering: pixelated;\">\n",
       "</div>\n"
      ]
     },
     "metadata": {},
     "output_type": "display_data"
    },
    {
     "data": {
      "text/plain": [
       "Dict{Any, Any} with 8 entries:\n",
       "  ((5, 5), false)   => [16.4621, 15.6844, 15.6525, 14.3178, 14.0357, 12.2474, 1…\n",
       "  ((9, 9), true)    => [19.0, 12.0, 11.0, 10.0]\n",
       "  ((9, 9), false)   => [23.6854, 23.2379, 22.8254, 22.6495, 22.2261, 21.8632, 2…\n",
       "  ((3, 3), true)    => [8.0, 4.0, 3.0]\n",
       "  ((3, 3), false)   => [8.0, 6.9282, 6.40312, 5.74456, 5.0, 4.47214, 3.4641, 3.…\n",
       "  ((21, 21), true)  => [203.0, 73.0, 35.0, 34.0, 32.0, 30.0, 24.0]\n",
       "  ((21, 21), false) => [53.5257, 47.4025, 47.1275, 47.0638, 42.1545, 35.242, 33…\n",
       "  ((5, 5), true)    => [22.0, 6.0, 5.0]"
      ]
     },
     "metadata": {},
     "output_type": "display_data"
    }
   ],
   "source": [
    "using Random\n",
    "using Images\n",
    "using FileIO\n",
    "using Base64\n",
    "using Statistics\n",
    "\n",
    "function get_rainbow_palette()\n",
    "    return [\n",
    "        RGB(1.0, 0.0, 0.0),  # красный\n",
    "        RGB(1.0, 0.5, 0.0),  # оранжевый\n",
    "        RGB(1.0, 1.0, 0.0),  # желтый\n",
    "        RGB(0.0, 1.0, 0.0),  # зеленый\n",
    "        RGB(0.0, 1.0, 1.0),  # голубой\n",
    "        RGB(0.0, 0.0, 1.0),  # синий\n",
    "        RGB(0.5, 0.0, 1.0)   # фиолетовый\n",
    "    ]\n",
    "end\n",
    "\n",
    "function matrix_to_image(matrix, palette; pixel_size=30)\n",
    "    h, w = size(matrix)\n",
    "    img = Array{RGB{Float64}}(undef, h*pixel_size, w*pixel_size)\n",
    "    for i in 1:h, j in 1:w,\n",
    "        ii in ((i-1)*pixel_size+1):i*pixel_size,\n",
    "        jj in ((j-1)*pixel_size+1):j*pixel_size\n",
    "        \n",
    "        idx = clamp(matrix[i, j], 1, length(palette))\n",
    "        img[ii, jj] = palette[idx]\n",
    "    end\n",
    "    return img\n",
    "end\n",
    "\n",
    "function matrix_to_binary(matrix, bits_per_element=3)\n",
    "    binary_vec = Bool[]\n",
    "    for elem in matrix\n",
    "        val = elem - 1\n",
    "        for i in (bits_per_element-1):-1:0\n",
    "            push!(binary_vec, val & (1 << i) != 0)\n",
    "        end\n",
    "    end\n",
    "    return binary_vec\n",
    "end\n",
    "\n",
    "function binary_to_matrix(binary_vec, bits_per_element, matrix_size)\n",
    "    matrix = zeros(Int, matrix_size)\n",
    "    for i in 1:prod(matrix_size)\n",
    "        bits = binary_vec[(i-1)*bits_per_element+1:i*bits_per_element]\n",
    "        val = sum(bits .* [4, 2, 1])\n",
    "        matrix[i] = clamp(val + 1, 1, 7)\n",
    "    end\n",
    "    return matrix\n",
    "end\n",
    "\n",
    "function crossover(a, b)\n",
    "    n = length(a)\n",
    "    child = similar(a)\n",
    "    crossover_point = rand(1:n-1)\n",
    "    child[1:crossover_point] = a[1:crossover_point]\n",
    "    child[crossover_point+1:end] = b[crossover_point+1:end]\n",
    "    return child\n",
    "end\n",
    "\n",
    "function mutate(binary_vec, mutation_rate=0.01)\n",
    "    mutated = copy(binary_vec)\n",
    "    for i in eachindex(mutated)\n",
    "        rand() < mutation_rate && (mutated[i] = !mutated[i])\n",
    "    end\n",
    "    return mutated\n",
    "end\n",
    "\n",
    "function calculate_distance(a, b, use_hamming)\n",
    "    if use_hamming\n",
    "        return sum(a .!= b)\n",
    "    else\n",
    "        return sqrt(sum((a .- b).^2))\n",
    "    end\n",
    "end\n",
    "\n",
    "function show_gif(frames, fps=5; display_size=400)\n",
    "    gif = cat(frames..., dims=3)\n",
    "    temp_file = tempname() * \".gif\"\n",
    "    save(temp_file, gif, fps=fps)\n",
    "    \n",
    "    w, h = size(frames[1])\n",
    "    aspect_ratio = w/h\n",
    "    display_width = display_size\n",
    "    display_height = round(Int, display_size / aspect_ratio)\n",
    "    \n",
    "    display(\"text/html\", \"\"\"\n",
    "    <div style=\"width:$(display_width)px; height:$(display_height)px; image-rendering: pixelated;\">\n",
    "        <img src=\"data:image/gif;base64,$(base64encode(open(read, temp_file)))\" \n",
    "             width=\"$(display_width)\" height=\"$(display_height)\"\n",
    "             style=\"image-rendering: pixelated;\">\n",
    "    </div>\n",
    "    \"\"\")\n",
    "end\n",
    "\n",
    "function create_custom_matrix(matrix_size)\n",
    "    matrix = fill(6, matrix_size)\n",
    "    center_col = div(matrix_size[2], 2) + 1\n",
    "    matrix[:, center_col] .= 0\n",
    "    return matrix\n",
    "end\n",
    "\n",
    "function run_experiment(matrix_size, use_hamming; \n",
    "                       max_generations=500, mutation_rate=0.02, pixel_size=20)\n",
    "    palette = get_rainbow_palette()\n",
    "    bits_per_element = 3\n",
    "    \n",
    "    reference = create_custom_matrix(matrix_size)\n",
    "    current = rand(1:7, matrix_size)\n",
    "    \n",
    "    frames = [matrix_to_image(current, palette; pixel_size)]\n",
    "    distances = Float64[]\n",
    "    \n",
    "    generation = 0\n",
    "    while generation < max_generations\n",
    "        child_bin = mutate(crossover(matrix_to_binary(current), matrix_to_binary(reference)), mutation_rate)\n",
    "        child = binary_to_matrix(child_bin, bits_per_element, matrix_size)\n",
    "        \n",
    "        dist = calculate_distance(current, reference, use_hamming)\n",
    "        new_dist = calculate_distance(child, reference, use_hamming)\n",
    "\n",
    "        if new_dist < dist\n",
    "            current = child\n",
    "            push!(frames, matrix_to_image(current, palette; pixel_size))\n",
    "            push!(distances, new_dist)\n",
    "        end\n",
    "        generation += 1\n",
    "        (new_dist == 0) && break\n",
    "    end\n",
    "    \n",
    "    println(\"\\nРазмер матрицы: $matrix_size, расстояние: $(use_hamming ? \"Хэмминга\" : \"Евклидово\")\")\n",
    "    println(\"Потребовалось поколений: $(length(distances))\")\n",
    " \n",
    "    if prod(matrix_size) <= 21*21\n",
    "        println(\"\\nЭталонное изображение:\")\n",
    "        display(matrix_to_image(reference, palette; pixel_size))\n",
    "        \n",
    "        println(\"\\nФинальный результат:\")\n",
    "        display(matrix_to_image(current, palette; pixel_size))\n",
    "        \n",
    "        println(\"\\nПроцесс эволюции:\")\n",
    "        show_gif(frames, 5; display_size=min(600, pixel_size * maximum(matrix_size) * 2))\n",
    "    end\n",
    "    \n",
    "    return distances\n",
    "end\n",
    "\n",
    "function run_all_experiments()\n",
    "    matrix_sizes = [(3,3), (5,5), (9,9), (21,21)]\n",
    "    distance_types = [true, false]\n",
    "    \n",
    "    results = Dict()\n",
    "    \n",
    "    for size in matrix_sizes, use_hamming in distance_types\n",
    "        println(\"\\n\" * \"=\"^50)\n",
    "        println(\"ЗАПУСК ЭКСПЕРИМЕНТА: размер $size, расстояние $(use_hamming ? \"Хэмминга\" : \"Евклидово\")\")\n",
    "        \n",
    "        distances = run_experiment(size, use_hamming, \n",
    "                                 max_generations=1000,\n",
    "                                 mutation_rate=0.01,\n",
    "                                 pixel_size=max(5, 50 ÷ maximum(size)))\n",
    "        \n",
    "        results[(size, use_hamming)] = distances\n",
    "    end\n",
    "    \n",
    "    return results\n",
    "end\n",
    "\n",
    "results = run_all_experiments()"
   ]
  }
 ],
 "metadata": {
  "kernelspec": {
   "display_name": "Julia 1.10.5",
   "language": "julia",
   "name": "julia-1.10"
  },
  "language_info": {
   "file_extension": ".jl",
   "mimetype": "application/julia",
   "name": "julia",
   "version": "1.10.5"
  }
 },
 "nbformat": 4,
 "nbformat_minor": 2
}
