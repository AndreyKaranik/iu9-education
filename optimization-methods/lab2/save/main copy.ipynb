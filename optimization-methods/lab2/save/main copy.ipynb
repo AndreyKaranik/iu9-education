{
 "cells": [
  {
   "cell_type": "code",
   "execution_count": 28,
   "metadata": {},
   "outputs": [
    {
     "name": "stdout",
     "output_type": "stream",
     "text": [
      "Converged at iteration 11\n",
      "Optimal point: [1.3877787807814457e-16, 1.3877787807814457e-16]\n"
     ]
    }
   ],
   "source": [
    "function coordinate_descent(f, x0; step_size=0.1, tol=1e-6, max_iter=1000)\n",
    "    x = copy(x0)\n",
    "    n = length(x0)\n",
    "    for iter in 1:max_iter\n",
    "        x_old = copy(x)\n",
    "        \n",
    "        for i in 1:n\n",
    "            best_xi = x[i]\n",
    "            best_f_value = f(x)\n",
    "            \n",
    "            for step in [-step_size, step_size]\n",
    "                x[i] = x[i] + step\n",
    "                if f(x) < best_f_value\n",
    "                    best_f_value = f(x)\n",
    "                    best_xi = x[i]\n",
    "                end\n",
    "            end\n",
    "        \n",
    "            x[i] = best_xi\n",
    "        end\n",
    "        \n",
    "        if norm(x - x_old) < tol\n",
    "            println(\"Converged at iteration $iter\")\n",
    "            return x\n",
    "        end\n",
    "    end\n",
    "    \n",
    "    println(\"Max iterations reached\")\n",
    "    return x\n",
    "end\n",
    "\n",
    "# Пример использования с функцией f(x) = x1^2 + x2^2 (минимум в (0, 0))\n",
    "f(x) = x[1]^2 + x[2]^2\n",
    "\n",
    "# Начальная точка\n",
    "x0 = [1.0, 1.0]\n",
    "\n",
    "# Вызов метода\n",
    "result = coordinate_descent(f, x0)\n",
    "println(\"Optimal point: \", result)\n"
   ]
  }
 ],
 "metadata": {
  "kernelspec": {
   "display_name": "Julia 1.10.5",
   "language": "julia",
   "name": "julia-1.10"
  },
  "language_info": {
   "file_extension": ".jl",
   "mimetype": "application/julia",
   "name": "julia",
   "version": "1.10.5"
  }
 },
 "nbformat": 4,
 "nbformat_minor": 2
}
